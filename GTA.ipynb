{
 "cells": [
  {
   "cell_type": "markdown",
   "metadata": {},
   "source": [
    "# IMPORTING THE LIBRARIES"
   ]
  },
  {
   "cell_type": "code",
   "execution_count": 63,
   "metadata": {
    "collapsed": false
   },
   "outputs": [],
   "source": [
    "# Importing Library required for Data Analysis\n",
    "# Numpy/Pandas :Data Manipulation\n",
    "# Matplotlib : Data Visualization\n",
    "# Imputer:For replacing Missing values with mean,median,mode etc\n",
    "# LabelEncoder/OneHotEncoder : For encoding categorical Variable \n",
    "# For splitting data in Train dataset and Test dataset\n",
    "\n",
    "\n",
    "import numpy as np\n",
    "import matplotlib.pyplot as plt\n",
    "import pandas as pd\n",
    "from sklearn.preprocessing import Imputer\n",
    "from sklearn.preprocessing import LabelEncoder,OneHotEncoder\n",
    "from sklearn.cross_validation import train_test_split\n",
    "from sklearn.metrics import accuracy_score\n",
    "from sklearn.metrics import precision_score,recall_score, confusion_matrix, classification_report,f1_score\n",
    "from mlxtend.plotting import plot_confusion_matrix\n",
    "from prettytable import PrettyTable\n",
    "from sklearn.metrics import precision_recall_fscore_support as score\n"
   ]
  },
  {
   "cell_type": "markdown",
   "metadata": {},
   "source": [
    "# Reading the DATASET ( 2011-2016)-1000 Records from each year"
   ]
  },
  {
   "cell_type": "code",
   "execution_count": 2,
   "metadata": {
    "collapsed": false
   },
   "outputs": [
    {
     "data": {
      "text/html": [
       "<div>\n",
       "<style scoped>\n",
       "    .dataframe tbody tr th:only-of-type {\n",
       "        vertical-align: middle;\n",
       "    }\n",
       "\n",
       "    .dataframe tbody tr th {\n",
       "        vertical-align: top;\n",
       "    }\n",
       "\n",
       "    .dataframe thead th {\n",
       "        text-align: right;\n",
       "    }\n",
       "</style>\n",
       "<table border=\"1\" class=\"dataframe\">\n",
       "  <thead>\n",
       "    <tr style=\"text-align: right;\">\n",
       "      <th></th>\n",
       "      <th>GTD ID</th>\n",
       "      <th>DATE</th>\n",
       "      <th>COUNTRY</th>\n",
       "      <th>CITY</th>\n",
       "      <th>PERPETRATOR 1</th>\n",
       "      <th>GUNCERTAIN 1</th>\n",
       "      <th>PERPETRATOR 2</th>\n",
       "      <th>GUNCERTAIN 2</th>\n",
       "      <th>PERPETRATOR 3</th>\n",
       "      <th>GUNCERTAIN 3</th>\n",
       "      <th>...</th>\n",
       "      <th>TARGET TYPE 2</th>\n",
       "      <th>TARGET TYPE 3</th>\n",
       "      <th>REGION</th>\n",
       "      <th>ATTACK TYPE 1</th>\n",
       "      <th>ATTACK TYPE 2</th>\n",
       "      <th>ATTACK TYPE 3</th>\n",
       "      <th>WEAPON TYPE 1</th>\n",
       "      <th>WEAPON TYPE 2</th>\n",
       "      <th>WEAPON TYPE 3</th>\n",
       "      <th>WEAPON TYPE 4</th>\n",
       "    </tr>\n",
       "  </thead>\n",
       "  <tbody>\n",
       "    <tr>\n",
       "      <th>0</th>\n",
       "      <td>2.011120e+11</td>\n",
       "      <td>12/31/2011</td>\n",
       "      <td>Pakistan</td>\n",
       "      <td>Landi Kotal</td>\n",
       "      <td>Unknown</td>\n",
       "      <td>0</td>\n",
       "      <td>2</td>\n",
       "      <td>4</td>\n",
       "      <td>Private Citizens &amp; Property</td>\n",
       "      <td>South Asia</td>\n",
       "      <td>...</td>\n",
       "      <td>Bombing/Explosion</td>\n",
       "      <td>Explosives/Bombs/Dynamite</td>\n",
       "      <td>NaN</td>\n",
       "      <td>NaN</td>\n",
       "      <td>NaN</td>\n",
       "      <td>NaN</td>\n",
       "      <td>NaN</td>\n",
       "      <td>NaN</td>\n",
       "      <td>NaN</td>\n",
       "      <td>NaN</td>\n",
       "    </tr>\n",
       "    <tr>\n",
       "      <th>1</th>\n",
       "      <td>2.011120e+11</td>\n",
       "      <td>12/31/2011</td>\n",
       "      <td>Pakistan</td>\n",
       "      <td>Boya</td>\n",
       "      <td>Tehrik-i-Taliban Pakistan (TTP)</td>\n",
       "      <td>1</td>\n",
       "      <td>NaN</td>\n",
       "      <td>NaN</td>\n",
       "      <td>NaN</td>\n",
       "      <td>NaN</td>\n",
       "      <td>...</td>\n",
       "      <td>NaN</td>\n",
       "      <td>NaN</td>\n",
       "      <td>South Asia</td>\n",
       "      <td>Bombing/Explosion</td>\n",
       "      <td>NaN</td>\n",
       "      <td>NaN</td>\n",
       "      <td>Explosives/Bombs/Dynamite</td>\n",
       "      <td>NaN</td>\n",
       "      <td>NaN</td>\n",
       "      <td>NaN</td>\n",
       "    </tr>\n",
       "    <tr>\n",
       "      <th>2</th>\n",
       "      <td>2.011120e+11</td>\n",
       "      <td>12/31/2011</td>\n",
       "      <td>Iraq</td>\n",
       "      <td>Kirkuk</td>\n",
       "      <td>Unknown</td>\n",
       "      <td>0</td>\n",
       "      <td>NaN</td>\n",
       "      <td>NaN</td>\n",
       "      <td>NaN</td>\n",
       "      <td>NaN</td>\n",
       "      <td>...</td>\n",
       "      <td>NaN</td>\n",
       "      <td>NaN</td>\n",
       "      <td>Middle East &amp; North Africa</td>\n",
       "      <td>Bombing/Explosion</td>\n",
       "      <td>NaN</td>\n",
       "      <td>NaN</td>\n",
       "      <td>Explosives/Bombs/Dynamite</td>\n",
       "      <td>NaN</td>\n",
       "      <td>NaN</td>\n",
       "      <td>NaN</td>\n",
       "    </tr>\n",
       "    <tr>\n",
       "      <th>3</th>\n",
       "      <td>2.011120e+11</td>\n",
       "      <td>12/31/2011</td>\n",
       "      <td>Pakistan</td>\n",
       "      <td>Landi Kotal</td>\n",
       "      <td>Unknown</td>\n",
       "      <td>0</td>\n",
       "      <td>NaN</td>\n",
       "      <td>NaN</td>\n",
       "      <td>NaN</td>\n",
       "      <td>NaN</td>\n",
       "      <td>...</td>\n",
       "      <td>NaN</td>\n",
       "      <td>NaN</td>\n",
       "      <td>South Asia</td>\n",
       "      <td>Bombing/Explosion</td>\n",
       "      <td>NaN</td>\n",
       "      <td>NaN</td>\n",
       "      <td>Explosives/Bombs/Dynamite</td>\n",
       "      <td>NaN</td>\n",
       "      <td>NaN</td>\n",
       "      <td>NaN</td>\n",
       "    </tr>\n",
       "    <tr>\n",
       "      <th>4</th>\n",
       "      <td>2.011120e+11</td>\n",
       "      <td>12/31/2011</td>\n",
       "      <td>Iraq</td>\n",
       "      <td>Khan Bani Saad</td>\n",
       "      <td>Al-Qaida in Iraq</td>\n",
       "      <td>1</td>\n",
       "      <td>NaN</td>\n",
       "      <td>NaN</td>\n",
       "      <td>NaN</td>\n",
       "      <td>NaN</td>\n",
       "      <td>...</td>\n",
       "      <td>NaN</td>\n",
       "      <td>NaN</td>\n",
       "      <td>Middle East &amp; North Africa</td>\n",
       "      <td>Armed Assault</td>\n",
       "      <td>NaN</td>\n",
       "      <td>NaN</td>\n",
       "      <td>Firearms</td>\n",
       "      <td>NaN</td>\n",
       "      <td>NaN</td>\n",
       "      <td>NaN</td>\n",
       "    </tr>\n",
       "  </tbody>\n",
       "</table>\n",
       "<p>5 rows × 23 columns</p>\n",
       "</div>"
      ],
      "text/plain": [
       "         GTD ID        DATE   COUNTRY            CITY  \\\n",
       "0  2.011120e+11  12/31/2011  Pakistan     Landi Kotal   \n",
       "1  2.011120e+11  12/31/2011  Pakistan            Boya   \n",
       "2  2.011120e+11  12/31/2011      Iraq          Kirkuk   \n",
       "3  2.011120e+11  12/31/2011  Pakistan     Landi Kotal   \n",
       "4  2.011120e+11  12/31/2011      Iraq  Khan Bani Saad   \n",
       "\n",
       "                     PERPETRATOR 1  GUNCERTAIN 1 PERPETRATOR 2 GUNCERTAIN 2  \\\n",
       "0                          Unknown             0             2            4   \n",
       "1  Tehrik-i-Taliban Pakistan (TTP)             1           NaN          NaN   \n",
       "2                          Unknown             0           NaN          NaN   \n",
       "3                          Unknown             0           NaN          NaN   \n",
       "4                 Al-Qaida in Iraq             1           NaN          NaN   \n",
       "\n",
       "                 PERPETRATOR 3 GUNCERTAIN 3      ...           TARGET TYPE 2  \\\n",
       "0  Private Citizens & Property   South Asia      ...       Bombing/Explosion   \n",
       "1                          NaN          NaN      ...                     NaN   \n",
       "2                          NaN          NaN      ...                     NaN   \n",
       "3                          NaN          NaN      ...                     NaN   \n",
       "4                          NaN          NaN      ...                     NaN   \n",
       "\n",
       "               TARGET TYPE 3                      REGION      ATTACK TYPE 1  \\\n",
       "0  Explosives/Bombs/Dynamite                         NaN                NaN   \n",
       "1                        NaN                  South Asia  Bombing/Explosion   \n",
       "2                        NaN  Middle East & North Africa  Bombing/Explosion   \n",
       "3                        NaN                  South Asia  Bombing/Explosion   \n",
       "4                        NaN  Middle East & North Africa      Armed Assault   \n",
       "\n",
       "  ATTACK TYPE 2 ATTACK TYPE 3              WEAPON TYPE 1 WEAPON TYPE 2  \\\n",
       "0           NaN           NaN                        NaN           NaN   \n",
       "1           NaN           NaN  Explosives/Bombs/Dynamite           NaN   \n",
       "2           NaN           NaN  Explosives/Bombs/Dynamite           NaN   \n",
       "3           NaN           NaN  Explosives/Bombs/Dynamite           NaN   \n",
       "4           NaN           NaN                   Firearms           NaN   \n",
       "\n",
       "  WEAPON TYPE 3 WEAPON TYPE 4  \n",
       "0           NaN           NaN  \n",
       "1           NaN           NaN  \n",
       "2           NaN           NaN  \n",
       "3           NaN           NaN  \n",
       "4           NaN           NaN  \n",
       "\n",
       "[5 rows x 23 columns]"
      ]
     },
     "execution_count": 2,
     "metadata": {},
     "output_type": "execute_result"
    }
   ],
   "source": [
    "#Reading the Dataset Global Terrorism Database (GTD) year(2010-2016) and we will predict the (PERPERTRATOR 1 ) column in this \n",
    "# data analysis and will ignore other (PERPERTRATOR 2 and PERPERTRATOR 3 ) columns because they have too much missing values which \n",
    "#we will see in the below code..\n",
    "\n",
    "dataset_1=pd.read_csv('C:/Users/tejve/Downloads/Machine Learning A-Z/Part 10 - Model Selection & Boosting/Section 48 - Model Selection/GTD-Export (10).csv',parse_dates=True,header=0)\n",
    "dataset_2=pd.read_csv('C:/Users/tejve/Downloads/Machine Learning A-Z/Part 10 - Model Selection & Boosting/Section 48 - Model Selection/GTD-Export (11).csv',parse_dates=True,header=0)\n",
    "dataset_3=pd.read_csv('C:/Users/tejve/Downloads/Machine Learning A-Z/Part 10 - Model Selection & Boosting/Section 48 - Model Selection/GTD-Export (12).csv',parse_dates=True,header=0)\n",
    "dataset_4=pd.read_csv('C:/Users/tejve/Downloads/Machine Learning A-Z/Part 10 - Model Selection & Boosting/Section 48 - Model Selection/GTD-Export (13).csv',parse_dates=True,header=0)\n",
    "dataset_5=pd.read_csv('C:/Users/tejve/Downloads/Machine Learning A-Z/Part 10 - Model Selection & Boosting/Section 48 - Model Selection/GTD-Export (14).csv',parse_dates=True,header=0)\n",
    "dataset_6=pd.read_csv('C:/Users/tejve/Downloads/Machine Learning A-Z/Part 10 - Model Selection & Boosting/Section 48 - Model Selection/GTD-Export (15).csv',parse_dates=True,header=0)\n",
    "\n",
    "\n",
    "dataset= pd.concat([dataset_1,dataset_2,dataset_3,dataset_4,dataset_5,dataset_6])\n",
    "dataset.head()\n"
   ]
  },
  {
   "cell_type": "code",
   "execution_count": null,
   "metadata": {
    "collapsed": false
   },
   "outputs": [],
   "source": [
    "\n",
    "\n"
   ]
  },
  {
   "cell_type": "markdown",
   "metadata": {},
   "source": [
    "# Remove Duplicates from DataFrame"
   ]
  },
  {
   "cell_type": "code",
   "execution_count": 3,
   "metadata": {
    "collapsed": false
   },
   "outputs": [
    {
     "data": {
      "text/plain": [
       "(5666, 23)"
      ]
     },
     "execution_count": 3,
     "metadata": {},
     "output_type": "execute_result"
    }
   ],
   "source": [
    "dataset=dataset.drop_duplicates()\n",
    "dataset.shape\n"
   ]
  },
  {
   "cell_type": "markdown",
   "metadata": {},
   "source": [
    "# Data Preprocessing"
   ]
  },
  {
   "cell_type": "markdown",
   "metadata": {},
   "source": [
    "# 1. Summing the Missing values in The Column"
   ]
  },
  {
   "cell_type": "code",
   "execution_count": 4,
   "metadata": {
    "collapsed": false
   },
   "outputs": [
    {
     "name": "stdout",
     "output_type": "stream",
     "text": [
      "The number of missing values in each column:\n",
      "GTD ID              0\n",
      "DATE                0\n",
      "COUNTRY             0\n",
      "CITY                0\n",
      "PERPETRATOR 1       0\n",
      "GUNCERTAIN 1        0\n",
      "PERPETRATOR 2    5577\n",
      "GUNCERTAIN 2     5577\n",
      "PERPETRATOR 3    5638\n",
      "GUNCERTAIN 3     5638\n",
      "FATALITIES          6\n",
      "INJURED            12\n",
      "TARGET TYPE 1       6\n",
      "TARGET TYPE 2    5089\n",
      "TARGET TYPE 3    5620\n",
      "REGION             12\n",
      "ATTACK TYPE 1       6\n",
      "ATTACK TYPE 2    5466\n",
      "ATTACK TYPE 3    5652\n",
      "WEAPON TYPE 1      12\n",
      "WEAPON TYPE 2    5194\n",
      "WEAPON TYPE 3    5596\n",
      "WEAPON TYPE 4    5662\n",
      "dtype: int64\n"
     ]
    }
   ],
   "source": [
    "# get the number of missing data points per column this will help us to decide which column we need to drop\n",
    "\n",
    "print(\"The number of missing values in each column:\")\n",
    "\n",
    "print(dataset.isnull().sum())\n",
    "\n",
    "missing_values_count = dataset.isnull().sum()\n",
    "\n",
    "\n",
    "\n"
   ]
  },
  {
   "cell_type": "markdown",
   "metadata": {},
   "source": [
    "# 2. Calculating the % of missing entries in the Dataset"
   ]
  },
  {
   "cell_type": "code",
   "execution_count": 5,
   "metadata": {
    "collapsed": false
   },
   "outputs": [
    {
     "name": "stdout",
     "output_type": "stream",
     "text": [
      "The percent of data that is missing46.62671311714421%\n"
     ]
    }
   ],
   "source": [
    "# how many total missing values do we have?\n",
    "total_cells = np.product(dataset.shape)\n",
    "total_missing = missing_values_count.sum()\n",
    "\n",
    "# percent of data that is missing and about 50% of the data is missing we need to see if we can remove those columns\n",
    "print (\"The percent of data that is missing\",(total_missing/total_cells) * 100,\"%\",sep=\"\")"
   ]
  },
  {
   "cell_type": "markdown",
   "metadata": {},
   "source": [
    "# 3. Remove the Columns which have maximum missing values "
   ]
  },
  {
   "cell_type": "code",
   "execution_count": 6,
   "metadata": {
    "collapsed": false
   },
   "outputs": [],
   "source": [
    "#Drop all the irrelevant columns along with those columns which have maximum missing values \n",
    "#All the below columns have too much missing values so I am removing those and We also cannot predict those because they cannot have a actual value and it has to be strictly missing\n",
    "#The  'City' columns does not have missing value but still I will be removing it because it has too many levels and it is Highly correlated with 'Country' Column.So I am removing 'City' Column also.\n",
    "\n",
    "\n",
    "dataset=dataset.drop(['REGION','CITY','GTD ID','GUNCERTAIN 1','PERPETRATOR 2','GUNCERTAIN 2','PERPETRATOR 3','GUNCERTAIN 3','TARGET TYPE 2','TARGET TYPE 3','ATTACK TYPE 2','ATTACK TYPE 3','WEAPON TYPE 2','WEAPON TYPE 3','WEAPON TYPE 4'],axis=1)"
   ]
  },
  {
   "cell_type": "markdown",
   "metadata": {},
   "source": [
    "# 4. ReCalculate the % of missing entries "
   ]
  },
  {
   "cell_type": "code",
   "execution_count": 7,
   "metadata": {
    "collapsed": false
   },
   "outputs": [
    {
     "name": "stdout",
     "output_type": "stream",
     "text": [
      "The percent of data that is missing after droping out the variables0.09265795975997176%\n"
     ]
    }
   ],
   "source": [
    "# get the number of missing data points per column\n",
    "missing_values_count = dataset.isnull().sum()\n",
    "\n",
    "# how many total missing values do we have?\n",
    "total_cells = np.product(dataset.shape)\n",
    "total_missing = missing_values_count.sum()\n",
    "\n",
    "# percent of data that is missing after droping out the variables.\n",
    "print (\"The percent of data that is missing after droping out the variables\",total_missing/total_cells*100,\"%\",sep=\"\")"
   ]
  },
  {
   "cell_type": "code",
   "execution_count": 8,
   "metadata": {
    "collapsed": false
   },
   "outputs": [
    {
     "data": {
      "text/plain": [
       "(5666, 8)"
      ]
     },
     "execution_count": 8,
     "metadata": {},
     "output_type": "execute_result"
    }
   ],
   "source": [
    "# See Rows and Columns of the dataset\n",
    "dataset.shape"
   ]
  },
  {
   "cell_type": "markdown",
   "metadata": {},
   "source": [
    "# 5. Columns in Dataset"
   ]
  },
  {
   "cell_type": "code",
   "execution_count": 9,
   "metadata": {
    "collapsed": false
   },
   "outputs": [
    {
     "data": {
      "text/plain": [
       "Index(['DATE', 'COUNTRY', 'PERPETRATOR 1', 'FATALITIES', 'INJURED',\n",
       "       'TARGET TYPE 1', 'ATTACK TYPE 1', 'WEAPON TYPE 1'],\n",
       "      dtype='object')"
      ]
     },
     "execution_count": 9,
     "metadata": {},
     "output_type": "execute_result"
    }
   ],
   "source": [
    "#Seeing the columns in the dataset\n",
    "dataset.columns"
   ]
  },
  {
   "cell_type": "markdown",
   "metadata": {},
   "source": [
    "# 6. Remove the \"unknown\" entries  from the Dataset"
   ]
  },
  {
   "cell_type": "code",
   "execution_count": 10,
   "metadata": {
    "collapsed": false
   },
   "outputs": [],
   "source": [
    "#Remove the \"Unknown\" Entries from the dependent(Predicted variable) variable\n",
    "\n",
    "dataset=dataset[dataset['PERPETRATOR 1']!='Unknown']\n",
    "\n",
    "\n",
    "# Removing the \"Unknown\" entries from the data set in various columns\n",
    "\n",
    "dataset=dataset[dataset['WEAPON TYPE 1']!='Unknown'] \n",
    "dataset=dataset[dataset['ATTACK TYPE 1']!='Unknown']\n",
    "dataset=dataset[dataset['FATALITIES']!='Unknown']\n",
    "dataset=dataset[dataset['INJURED']!='Unknown']"
   ]
  },
  {
   "cell_type": "code",
   "execution_count": 11,
   "metadata": {
    "collapsed": false
   },
   "outputs": [
    {
     "data": {
      "text/plain": [
       "(2184, 8)"
      ]
     },
     "execution_count": 11,
     "metadata": {},
     "output_type": "execute_result"
    }
   ],
   "source": [
    "dataset.shape"
   ]
  },
  {
   "cell_type": "markdown",
   "metadata": {},
   "source": [
    "# 7. Recheck the total number of missing values per column and Remove the   missing values also if present"
   ]
  },
  {
   "cell_type": "code",
   "execution_count": 12,
   "metadata": {
    "collapsed": false
   },
   "outputs": [
    {
     "data": {
      "text/plain": [
       "DATE             0\n",
       "COUNTRY          0\n",
       "PERPETRATOR 1    0\n",
       "FATALITIES       3\n",
       "INJURED          5\n",
       "TARGET TYPE 1    3\n",
       "ATTACK TYPE 1    3\n",
       "WEAPON TYPE 1    5\n",
       "dtype: int64"
      ]
     },
     "execution_count": 12,
     "metadata": {},
     "output_type": "execute_result"
    }
   ],
   "source": [
    "#Checking the number of missing entries in the columns\n",
    "dataset.isnull().sum()"
   ]
  },
  {
   "cell_type": "code",
   "execution_count": 13,
   "metadata": {
    "collapsed": false
   },
   "outputs": [],
   "source": [
    "#Remove the missing Entries from the dataset in respective rows\n",
    "dataset=dataset.dropna()"
   ]
  },
  {
   "cell_type": "code",
   "execution_count": 14,
   "metadata": {
    "collapsed": false
   },
   "outputs": [
    {
     "data": {
      "text/html": [
       "<div>\n",
       "<style scoped>\n",
       "    .dataframe tbody tr th:only-of-type {\n",
       "        vertical-align: middle;\n",
       "    }\n",
       "\n",
       "    .dataframe tbody tr th {\n",
       "        vertical-align: top;\n",
       "    }\n",
       "\n",
       "    .dataframe thead th {\n",
       "        text-align: right;\n",
       "    }\n",
       "</style>\n",
       "<table border=\"1\" class=\"dataframe\">\n",
       "  <thead>\n",
       "    <tr style=\"text-align: right;\">\n",
       "      <th></th>\n",
       "      <th>DATE</th>\n",
       "      <th>COUNTRY</th>\n",
       "      <th>PERPETRATOR 1</th>\n",
       "      <th>FATALITIES</th>\n",
       "      <th>INJURED</th>\n",
       "      <th>TARGET TYPE 1</th>\n",
       "      <th>ATTACK TYPE 1</th>\n",
       "      <th>WEAPON TYPE 1</th>\n",
       "    </tr>\n",
       "  </thead>\n",
       "  <tbody>\n",
       "    <tr>\n",
       "      <th>4</th>\n",
       "      <td>12/31/2011</td>\n",
       "      <td>Iraq</td>\n",
       "      <td>Al-Qaida in Iraq</td>\n",
       "      <td>5</td>\n",
       "      <td>0</td>\n",
       "      <td>Terrorists/Non-state Militia</td>\n",
       "      <td>Armed Assault</td>\n",
       "      <td>Firearms</td>\n",
       "    </tr>\n",
       "    <tr>\n",
       "      <th>7</th>\n",
       "      <td>12/30/2011</td>\n",
       "      <td>Chile</td>\n",
       "      <td>Arauco Malleco Coordinating Group (CAM) - Chile</td>\n",
       "      <td>0</td>\n",
       "      <td>0</td>\n",
       "      <td>Government (General)</td>\n",
       "      <td>Facility/Infrastructure Attack</td>\n",
       "      <td>Incendiary</td>\n",
       "    </tr>\n",
       "    <tr>\n",
       "      <th>11</th>\n",
       "      <td>12/30/2011</td>\n",
       "      <td>Pakistan</td>\n",
       "      <td>Baloch Liberation Army (BLA)</td>\n",
       "      <td>14</td>\n",
       "      <td>30</td>\n",
       "      <td>Government (General)</td>\n",
       "      <td>Bombing/Explosion</td>\n",
       "      <td>Explosives/Bombs/Dynamite</td>\n",
       "    </tr>\n",
       "    <tr>\n",
       "      <th>15</th>\n",
       "      <td>12/30/2011</td>\n",
       "      <td>Afghanistan</td>\n",
       "      <td>Taliban</td>\n",
       "      <td>4</td>\n",
       "      <td>1</td>\n",
       "      <td>Private Citizens &amp; Property</td>\n",
       "      <td>Bombing/Explosion</td>\n",
       "      <td>Explosives/Bombs/Dynamite</td>\n",
       "    </tr>\n",
       "    <tr>\n",
       "      <th>16</th>\n",
       "      <td>12/30/2011</td>\n",
       "      <td>Pakistan</td>\n",
       "      <td>Lashkar-e-Islam (Pakistan)</td>\n",
       "      <td>0</td>\n",
       "      <td>0</td>\n",
       "      <td>Educational Institution</td>\n",
       "      <td>Bombing/Explosion</td>\n",
       "      <td>Explosives/Bombs/Dynamite</td>\n",
       "    </tr>\n",
       "  </tbody>\n",
       "</table>\n",
       "</div>"
      ],
      "text/plain": [
       "          DATE      COUNTRY                                    PERPETRATOR 1  \\\n",
       "4   12/31/2011         Iraq                                 Al-Qaida in Iraq   \n",
       "7   12/30/2011        Chile  Arauco Malleco Coordinating Group (CAM) - Chile   \n",
       "11  12/30/2011     Pakistan                     Baloch Liberation Army (BLA)   \n",
       "15  12/30/2011  Afghanistan                                          Taliban   \n",
       "16  12/30/2011     Pakistan                       Lashkar-e-Islam (Pakistan)   \n",
       "\n",
       "   FATALITIES INJURED                 TARGET TYPE 1  \\\n",
       "4           5       0  Terrorists/Non-state Militia   \n",
       "7           0       0          Government (General)   \n",
       "11         14      30          Government (General)   \n",
       "15          4       1   Private Citizens & Property   \n",
       "16          0       0       Educational Institution   \n",
       "\n",
       "                     ATTACK TYPE 1              WEAPON TYPE 1  \n",
       "4                    Armed Assault                   Firearms  \n",
       "7   Facility/Infrastructure Attack                 Incendiary  \n",
       "11               Bombing/Explosion  Explosives/Bombs/Dynamite  \n",
       "15               Bombing/Explosion  Explosives/Bombs/Dynamite  \n",
       "16               Bombing/Explosion  Explosives/Bombs/Dynamite  "
      ]
     },
     "execution_count": 14,
     "metadata": {},
     "output_type": "execute_result"
    }
   ],
   "source": [
    "dataset.head()"
   ]
  },
  {
   "cell_type": "markdown",
   "metadata": {},
   "source": [
    "# Checking if the Data Set has missing Values"
   ]
  },
  {
   "cell_type": "code",
   "execution_count": 15,
   "metadata": {
    "collapsed": false
   },
   "outputs": [
    {
     "data": {
      "text/plain": [
       "DATE             0\n",
       "COUNTRY          0\n",
       "PERPETRATOR 1    0\n",
       "FATALITIES       0\n",
       "INJURED          0\n",
       "TARGET TYPE 1    0\n",
       "ATTACK TYPE 1    0\n",
       "WEAPON TYPE 1    0\n",
       "dtype: int64"
      ]
     },
     "execution_count": 15,
     "metadata": {},
     "output_type": "execute_result"
    }
   ],
   "source": [
    "#Checking the number of missing entries in the columns\n",
    "dataset.isnull().sum()\n"
   ]
  },
  {
   "cell_type": "markdown",
   "metadata": {},
   "source": [
    "# Extracting the Date Column from the Dataset and thn extract the years from that"
   ]
  },
  {
   "cell_type": "code",
   "execution_count": 16,
   "metadata": {
    "collapsed": false
   },
   "outputs": [
    {
     "data": {
      "text/plain": [
       "DATE             6\n",
       "COUNTRY          0\n",
       "PERPETRATOR 1    0\n",
       "FATALITIES       0\n",
       "INJURED          0\n",
       "TARGET TYPE 1    0\n",
       "ATTACK TYPE 1    0\n",
       "WEAPON TYPE 1    0\n",
       "year             6\n",
       "dtype: int64"
      ]
     },
     "execution_count": 16,
     "metadata": {},
     "output_type": "execute_result"
    }
   ],
   "source": [
    "dataset['DATE'] = pd.to_datetime(dataset['DATE'],format='%m/%d/%Y', errors='coerce')\n",
    "\n",
    "dataset['year'] = dataset['DATE'].dt.year\n",
    "\n",
    "#Checking the number of missing entries in the columns\n",
    "\n",
    "dataset.isnull().sum()\n"
   ]
  },
  {
   "cell_type": "markdown",
   "metadata": {},
   "source": [
    "# Create the Copy of the Dataset and remove the 'NA' Enteries /This Modified data set will be used Data Exploration"
   ]
  },
  {
   "cell_type": "code",
   "execution_count": 17,
   "metadata": {
    "collapsed": false
   },
   "outputs": [],
   "source": [
    "#Remove the missing Entries from the dataset in respective rows\n",
    "Data_Exploration=dataset.copy()\n",
    "Data_Exploration=Data_Exploration.dropna()\n",
    "Data_Exploration.year.dtype\n",
    "\n",
    "\n",
    "del dataset['DATE']\n",
    "del dataset['year']\n",
    "\n"
   ]
  },
  {
   "cell_type": "code",
   "execution_count": 18,
   "metadata": {
    "collapsed": false
   },
   "outputs": [],
   "source": [
    "Data_Exploration.loc[:,'year']=Data_Exploration.year.astype(int)\n"
   ]
  },
  {
   "cell_type": "markdown",
   "metadata": {},
   "source": [
    "# Data Exploration"
   ]
  },
  {
   "cell_type": "markdown",
   "metadata": {},
   "source": [
    "# The Country where maximum terrorist Attack occurs?\n",
    "\n",
    "# The \"Afghanistan\" is a place where maximum terrorist Attack occurs"
   ]
  },
  {
   "cell_type": "code",
   "execution_count": 19,
   "metadata": {
    "collapsed": false
   },
   "outputs": [
    {
     "data": {
      "text/plain": [
       "<matplotlib.axes._subplots.AxesSubplot at 0x24c2bc85630>"
      ]
     },
     "execution_count": 19,
     "metadata": {},
     "output_type": "execute_result"
    },
    {
     "data": {
      "image/png": "[encoded data removed]",
      "text/plain": [
       "<Figure size 432x288 with 1 Axes>"
      ]
     },
     "metadata": {},
     "output_type": "display_data"
    }
   ],
   "source": [
    "# Plotting the Histogram of the variable (COUNTRY)\n",
    "\n",
    "\n",
    "Data_Exploration['COUNTRY'].value_counts()[0:5].plot(kind='bar')"
   ]
  },
  {
   "cell_type": "code",
   "execution_count": null,
   "metadata": {
    "collapsed": true
   },
   "outputs": [],
   "source": []
  },
  {
   "cell_type": "markdown",
   "metadata": {},
   "source": [
    "# The 'Year' Corresponding to maximum and Minimum Attacks?"
   ]
  },
  {
   "cell_type": "markdown",
   "metadata": {},
   "source": [
    "# The most attacks occurs in 2015\n",
    "# The least attacks occurs in 2013"
   ]
  },
  {
   "cell_type": "code",
   "execution_count": 20,
   "metadata": {
    "collapsed": false
   },
   "outputs": [
    {
     "data": {
      "text/plain": [
       "<matplotlib.axes._subplots.AxesSubplot at 0x24c2bf9a940>"
      ]
     },
     "execution_count": 20,
     "metadata": {},
     "output_type": "execute_result"
    },
    {
     "data": {
      "image/png": "[encoded data removed]",
      "text/plain": [
       "<Figure size 432x288 with 1 Axes>"
      ]
     },
     "metadata": {},
     "output_type": "display_data"
    }
   ],
   "source": [
    "\n",
    "g1 = Data_Exploration.groupby( [ \"year\"] ).count()['COUNTRY']\n",
    "plt.ylabel(\"Number of Terrorist Attacks\")\n",
    "g1.plot(kind='bar')\n"
   ]
  },
  {
   "cell_type": "code",
   "execution_count": null,
   "metadata": {
    "collapsed": true
   },
   "outputs": [],
   "source": []
  },
  {
   "cell_type": "markdown",
   "metadata": {},
   "source": [
    "# Which Group causes the maximum Terrorist Attacks?"
   ]
  },
  {
   "cell_type": "markdown",
   "metadata": {},
   "source": [
    "#  The perpertrator group \"Taliban\" which causes maximum terrorist Attack \n",
    "\n"
   ]
  },
  {
   "cell_type": "code",
   "execution_count": 21,
   "metadata": {
    "collapsed": false
   },
   "outputs": [
    {
     "data": {
      "text/plain": [
       "<matplotlib.axes._subplots.AxesSubplot at 0x24c2c00aa58>"
      ]
     },
     "execution_count": 21,
     "metadata": {},
     "output_type": "execute_result"
    },
    {
     "data": {
      "image/png": "[encoded data removed]",
      "text/plain": [
       "<Figure size 432x288 with 1 Axes>"
      ]
     },
     "metadata": {},
     "output_type": "display_data"
    }
   ],
   "source": [
    "#Following is the perpertrator group \"Islamic State of Iraq and the Levant (ISIL)\" which causes maximum terrorist Attack /Taliban is 2nd Highest\n",
    "\n",
    "dataset['PERPETRATOR 1'].value_counts()[0:5].plot(kind='bar')"
   ]
  },
  {
   "cell_type": "code",
   "execution_count": null,
   "metadata": {
    "collapsed": true
   },
   "outputs": [],
   "source": []
  },
  {
   "cell_type": "markdown",
   "metadata": {},
   "source": [
    "# Which type of Attack is most common?"
   ]
  },
  {
   "cell_type": "markdown",
   "metadata": {},
   "source": [
    "# The type of attack which is most common is \"Bombing/Explosion\""
   ]
  },
  {
   "cell_type": "code",
   "execution_count": 22,
   "metadata": {
    "collapsed": false
   },
   "outputs": [
    {
     "data": {
      "text/plain": [
       "<matplotlib.axes._subplots.AxesSubplot at 0x24c2c070be0>"
      ]
     },
     "execution_count": 22,
     "metadata": {},
     "output_type": "execute_result"
    },
    {
     "data": {
      "image/png": "[encoded data removed]",
      "text/plain": [
       "<Figure size 432x288 with 1 Axes>"
      ]
     },
     "metadata": {},
     "output_type": "display_data"
    }
   ],
   "source": [
    "# The type of attack which is most common is \"Bombing/Explosion\"\n",
    "\n",
    "dataset['ATTACK TYPE 1'].value_counts()[0:5].plot(kind='bar')"
   ]
  },
  {
   "cell_type": "code",
   "execution_count": null,
   "metadata": {
    "collapsed": false
   },
   "outputs": [],
   "source": []
  },
  {
   "cell_type": "markdown",
   "metadata": {},
   "source": [
    "# Which is the most common weapons used in the attacks?"
   ]
  },
  {
   "cell_type": "markdown",
   "metadata": {},
   "source": [
    "#  The most common weapons used in the attack are Explosives/Bombs/Dynamite"
   ]
  },
  {
   "cell_type": "code",
   "execution_count": 23,
   "metadata": {
    "collapsed": false
   },
   "outputs": [
    {
     "data": {
      "text/plain": [
       "<matplotlib.axes._subplots.AxesSubplot at 0x24c2c0beb70>"
      ]
     },
     "execution_count": 23,
     "metadata": {},
     "output_type": "execute_result"
    },
    {
     "data": {
      "image/png": "[encoded data removed]",
      "text/plain": [
       "<Figure size 432x288 with 1 Axes>"
      ]
     },
     "metadata": {},
     "output_type": "display_data"
    }
   ],
   "source": [
    "# The most common weapons used in the attack are Explosives/Bombs/Dynamite \n",
    "\n",
    "dataset['WEAPON TYPE 1'].value_counts()[0:5].plot(kind='bar')"
   ]
  },
  {
   "cell_type": "code",
   "execution_count": null,
   "metadata": {
    "collapsed": true
   },
   "outputs": [],
   "source": []
  },
  {
   "cell_type": "markdown",
   "metadata": {},
   "source": [
    "# Who is the most common target in terrorist Attacks?"
   ]
  },
  {
   "cell_type": "markdown",
   "metadata": {},
   "source": [
    "# The most common Target in the terrorist attacks are \"Private Citizens & Propery\""
   ]
  },
  {
   "cell_type": "code",
   "execution_count": 24,
   "metadata": {
    "collapsed": false
   },
   "outputs": [
    {
     "data": {
      "text/plain": [
       "<matplotlib.axes._subplots.AxesSubplot at 0x24c2c129e10>"
      ]
     },
     "execution_count": 24,
     "metadata": {},
     "output_type": "execute_result"
    },
    {
     "data": {
      "image/png": "[encoded data removed]",
      "text/plain": [
       "<Figure size 432x288 with 1 Axes>"
      ]
     },
     "metadata": {},
     "output_type": "display_data"
    }
   ],
   "source": [
    "#The most common Target in the terrorist attacks are \"Private Citizens & Propery\"\n",
    "\n",
    "dataset['TARGET TYPE 1'].value_counts()[0:5].plot(kind='bar')"
   ]
  },
  {
   "cell_type": "markdown",
   "metadata": {},
   "source": [
    "# Data processing before Applying Machine Learning Algorithm"
   ]
  },
  {
   "cell_type": "markdown",
   "metadata": {},
   "source": [
    "# 1. Dividing the data into (Variable to be predicted) Dependent  (Perpertator) and Independent Variable(other Predicators)"
   ]
  },
  {
   "cell_type": "markdown",
   "metadata": {},
   "source": [
    "# Predicators ( Independent Variables)\n",
    "\n",
    "## A.COUNTRY\n",
    "## B.FATALITIES\n",
    "## C.INJURED\n",
    "## D.TARGET TYPE 1\n",
    "## E.ATTACK TYPE 1\n",
    "## F.WEAPON TYPE 1\n",
    "\n"
   ]
  },
  {
   "cell_type": "code",
   "execution_count": 25,
   "metadata": {
    "collapsed": false
   },
   "outputs": [],
   "source": [
    "\n",
    "\n",
    "X=dataset.iloc[:,[0,2,3,4,5,6]].values\n"
   ]
  },
  {
   "cell_type": "markdown",
   "metadata": {},
   "source": [
    "## Dependent Variable (Variable to be Predicted) -PERPETRATOR 1"
   ]
  },
  {
   "cell_type": "code",
   "execution_count": 26,
   "metadata": {
    "collapsed": false
   },
   "outputs": [
    {
     "data": {
      "text/plain": [
       "dtype('O')"
      ]
     },
     "execution_count": 26,
     "metadata": {},
     "output_type": "execute_result"
    }
   ],
   "source": [
    "Y=dataset.iloc[:,1].values\n",
    "Y.dtype"
   ]
  },
  {
   "cell_type": "markdown",
   "metadata": {},
   "source": [
    "# 2. Encoding the (Nominal) Categorical Variable using LabelEncoder and OneHotEncoder  "
   ]
  },
  {
   "cell_type": "code",
   "execution_count": 27,
   "metadata": {
    "collapsed": false
   },
   "outputs": [],
   "source": [
    "labelencoder_X=LabelEncoder()\n",
    "\n",
    "X[:,0]=labelencoder_X.fit_transform(X[:,0])\n",
    "X[:,3]=labelencoder_X.fit_transform(X[:,3])\n",
    "X[:,4]=labelencoder_X.fit_transform(X[:,4])\n",
    "X[:,5]=labelencoder_X.fit_transform(X[:,5])\n",
    "\n",
    "\n",
    "\n",
    "\n",
    "onehotencoder= OneHotEncoder(categorical_features=[0,3,4,5])\n",
    "X=onehotencoder.fit_transform(X).toarray()\n"
   ]
  },
  {
   "cell_type": "code",
   "execution_count": 28,
   "metadata": {
    "collapsed": false
   },
   "outputs": [
    {
     "data": {
      "text/plain": [
       "(2179, 101)"
      ]
     },
     "execution_count": 28,
     "metadata": {},
     "output_type": "execute_result"
    }
   ],
   "source": [
    "X.shape"
   ]
  },
  {
   "cell_type": "code",
   "execution_count": 29,
   "metadata": {
    "collapsed": false
   },
   "outputs": [
    {
     "data": {
      "text/plain": [
       "array(['Al-Qaida in Iraq',\n",
       "       'Arauco Malleco Coordinating Group (CAM) - Chile',\n",
       "       'Baloch Liberation Army (BLA)', ...,\n",
       "       \"Kurdistan Workers' Party (PKK)\", 'Maute Group',\n",
       "       'Jihadi-inspired extremists'], dtype=object)"
      ]
     },
     "execution_count": 29,
     "metadata": {},
     "output_type": "execute_result"
    }
   ],
   "source": [
    "Y"
   ]
  },
  {
   "cell_type": "code",
   "execution_count": 30,
   "metadata": {
    "collapsed": false
   },
   "outputs": [],
   "source": [
    "labelencoder_X=LabelEncoder()\n",
    "\n",
    "Y=labelencoder_X.fit_transform(Y)\n"
   ]
  },
  {
   "cell_type": "code",
   "execution_count": 31,
   "metadata": {
    "collapsed": false
   },
   "outputs": [
    {
     "data": {
      "text/plain": [
       "(2179,)"
      ]
     },
     "execution_count": 31,
     "metadata": {},
     "output_type": "execute_result"
    }
   ],
   "source": [
    "Y.shape"
   ]
  },
  {
   "cell_type": "markdown",
   "metadata": {},
   "source": [
    "# Split the Data into Train and Test ,then Fit the model"
   ]
  },
  {
   "cell_type": "code",
   "execution_count": 32,
   "metadata": {
    "collapsed": false
   },
   "outputs": [],
   "source": [
    "X1_train,X1_test,Y1_train,Y1_test=train_test_split(X,Y,test_size=0.2,random_state=0)"
   ]
  },
  {
   "cell_type": "code",
   "execution_count": null,
   "metadata": {
    "collapsed": true
   },
   "outputs": [],
   "source": []
  },
  {
   "cell_type": "markdown",
   "metadata": {},
   "source": [
    "# Applying Machine Learning Algorithm and We will run Cross Validation for calculating the effictivness of Model and there are many levels in the dependent variable (the variable to be predicted) , which are having only 1 observation in our data set or less than 10 observation So Cross Validation is not a best method but it give us the general Idea"
   ]
  },
  {
   "cell_type": "markdown",
   "metadata": {},
   "source": [
    "# Support Vector Machines (Multi_class)"
   ]
  },
  {
   "cell_type": "code",
   "execution_count": 33,
   "metadata": {
    "collapsed": false
   },
   "outputs": [
    {
     "name": "stdout",
     "output_type": "stream",
     "text": [
      "Confusion Matrix :\n",
      "[[1 0 0 ... 0 0 0]\n",
      " [0 0 0 ... 0 0 0]\n",
      " [0 0 1 ... 0 0 0]\n",
      " ...\n",
      " [0 0 0 ... 0 0 0]\n",
      " [0 0 0 ... 0 1 0]\n",
      " [0 0 0 ... 0 0 0]]\n",
      "+---------------------------------------+------------+\n",
      "| Support Vector Machine kernel(Linear) | Accuracy % |\n",
      "+---------------------------------------+------------+\n",
      "|             Training Data             |   79.86    |\n",
      "|               Test Data               |   67.66    |\n",
      "+---------------------------------------+------------+\n"
     ]
    }
   ],
   "source": [
    "from sklearn.svm import LinearSVC\n",
    "classifier=LinearSVC(random_state=0,multi_class='crammer_singer' )\n",
    "classifier.fit(X1_train,Y1_train)\n",
    "y_pred=classifier.predict(X1_test)\n",
    "y_train=classifier.predict(X1_train)\n",
    "\n",
    "#Making the Confusion Matrix\n",
    "from sklearn.metrics import confusion_matrix\n",
    "cm=confusion_matrix(Y1_test,y_pred,)\n",
    "\n",
    "print(\"Confusion Matrix :\")\n",
    "print(cm)\n",
    "\n",
    "table=PrettyTable(['Support Vector Machine kernel(Linear)','Accuracy %'])\n",
    "table.add_row(['Training Data',round(accuracy_score(Y1_train, y_train)*100,2)])\n",
    "table.add_row(['Test Data',round(accuracy_score(Y1_test, y_pred)*100,2)])\n",
    "print(table)\n"
   ]
  },
  {
   "cell_type": "code",
   "execution_count": null,
   "metadata": {
    "collapsed": false
   },
   "outputs": [],
   "source": []
  },
  {
   "cell_type": "code",
   "execution_count": null,
   "metadata": {
    "collapsed": true
   },
   "outputs": [],
   "source": []
  },
  {
   "cell_type": "markdown",
   "metadata": {},
   "source": [
    "# Cross-Validation on Training Data (We will see error below due to unbalance predicted variables we will solve this later in notebook)"
   ]
  },
  {
   "cell_type": "code",
   "execution_count": null,
   "metadata": {
    "collapsed": true
   },
   "outputs": [],
   "source": []
  },
  {
   "cell_type": "code",
   "execution_count": 34,
   "metadata": {
    "collapsed": false
   },
   "outputs": [
    {
     "name": "stderr",
     "output_type": "stream",
     "text": [
      "C:\\Users\\tejve\\Anaconda2\\envs\\Python3.6Test\\lib\\site-packages\\sklearn\\cross_validation.py:553: Warning: The least populated class in y has only 1 members, which is too few. The minimum number of labels for any class cannot be less than n_folds=2.\n",
      "  % (min_labels, self.n_folds)), Warning)\n",
      "C:\\Users\\tejve\\Anaconda2\\envs\\Python3.6Test\\lib\\site-packages\\sklearn\\cross_validation.py:553: Warning: The least populated class in y has only 1 members, which is too few. The minimum number of labels for any class cannot be less than n_folds=3.\n",
      "  % (min_labels, self.n_folds)), Warning)\n",
      "C:\\Users\\tejve\\Anaconda2\\envs\\Python3.6Test\\lib\\site-packages\\sklearn\\cross_validation.py:553: Warning: The least populated class in y has only 1 members, which is too few. The minimum number of labels for any class cannot be less than n_folds=4.\n",
      "  % (min_labels, self.n_folds)), Warning)\n",
      "C:\\Users\\tejve\\Anaconda2\\envs\\Python3.6Test\\lib\\site-packages\\sklearn\\cross_validation.py:553: Warning: The least populated class in y has only 1 members, which is too few. The minimum number of labels for any class cannot be less than n_folds=5.\n",
      "  % (min_labels, self.n_folds)), Warning)\n",
      "C:\\Users\\tejve\\Anaconda2\\envs\\Python3.6Test\\lib\\site-packages\\sklearn\\cross_validation.py:553: Warning: The least populated class in y has only 1 members, which is too few. The minimum number of labels for any class cannot be less than n_folds=6.\n",
      "  % (min_labels, self.n_folds)), Warning)\n"
     ]
    },
    {
     "name": "stdout",
     "output_type": "stream",
     "text": [
      "+-----------------+------------+\n",
      "| Number of Folds | Accuracy % |\n",
      "+-----------------+------------+\n",
      "|        2        |   63.28    |\n",
      "|        3        |   65.66    |\n",
      "|        4        |   66.37    |\n",
      "|        5        |   68.18    |\n",
      "|        6        |   68.12    |\n",
      "+-----------------+------------+\n"
     ]
    }
   ],
   "source": [
    "from sklearn.cross_validation import cross_val_score\n",
    "\n",
    "table = PrettyTable(['Number of Folds','Accuracy %'])\n",
    "for i in range(5):\n",
    "     \n",
    "      accuracies=cross_val_score(estimator=classifier,X=X1_train,y=Y1_train,cv=i+2)\n",
    "      table.add_row([i+2,round(accuracies.mean()*100,2)])\n",
    "        \n",
    "print(table)\n"
   ]
  },
  {
   "cell_type": "code",
   "execution_count": null,
   "metadata": {
    "collapsed": true
   },
   "outputs": [],
   "source": []
  },
  {
   "cell_type": "code",
   "execution_count": null,
   "metadata": {
    "collapsed": true
   },
   "outputs": [],
   "source": []
  },
  {
   "cell_type": "code",
   "execution_count": null,
   "metadata": {
    "collapsed": true
   },
   "outputs": [],
   "source": []
  },
  {
   "cell_type": "markdown",
   "metadata": {},
   "source": [
    "# Support Vector Machines (Kernel: 'rbf')"
   ]
  },
  {
   "cell_type": "code",
   "execution_count": 35,
   "metadata": {
    "collapsed": false
   },
   "outputs": [
    {
     "name": "stdout",
     "output_type": "stream",
     "text": [
      "Confusion Matrix :\n",
      "[[0 0 0 ... 0 0 0]\n",
      " [0 0 0 ... 0 0 0]\n",
      " [0 0 0 ... 0 0 0]\n",
      " ...\n",
      " [0 0 0 ... 0 0 0]\n",
      " [0 0 0 ... 0 0 0]\n",
      " [0 0 0 ... 0 0 0]]\n",
      "+------------------------------------+------------+\n",
      "| Support Vector Machine kernel(RBF) | Accuracy % |\n",
      "+------------------------------------+------------+\n",
      "|           Training Data            |   52.67    |\n",
      "|             Test Data              |   50.23    |\n",
      "+------------------------------------+------------+\n"
     ]
    }
   ],
   "source": [
    "from sklearn.svm import SVC\n",
    "classifier=SVC(random_state=0,decision_function_shape='ovr',kernel='rbf')\n",
    "classifier.fit(X1_train,Y1_train)\n",
    "y_pred=classifier.predict(X1_test)\n",
    "y_train=classifier.predict(X1_train)\n",
    "#Making the Confusion Matrix\n",
    "\n",
    "from sklearn.metrics import confusion_matrix\n",
    "cm=confusion_matrix(Y1_test,y_pred,)\n",
    "\n",
    "print(\"Confusion Matrix :\")\n",
    "print(cm)\n",
    "\n",
    "table=PrettyTable(['Support Vector Machine kernel(RBF)','Accuracy %'])\n",
    "table.add_row(['Training Data',round(accuracy_score(Y1_train, y_train)*100,2)])\n",
    "table.add_row(['Test Data',round(accuracy_score(Y1_test, y_pred)*100,2)])\n",
    "print(table)\n"
   ]
  },
  {
   "cell_type": "markdown",
   "metadata": {},
   "source": [
    "# Support Vector Machines (Kernel: 'poly')"
   ]
  },
  {
   "cell_type": "code",
   "execution_count": 36,
   "metadata": {
    "collapsed": false
   },
   "outputs": [
    {
     "name": "stdout",
     "output_type": "stream",
     "text": [
      "Confusion Matrix :\n",
      "[[0 0 0 ... 0 0 0]\n",
      " [0 0 0 ... 0 0 0]\n",
      " [0 0 0 ... 0 0 0]\n",
      " ...\n",
      " [0 0 0 ... 0 0 0]\n",
      " [0 0 0 ... 0 0 0]\n",
      " [0 0 0 ... 0 0 0]]\n",
      "+-------------------------------------+------------+\n",
      "| Support Vector Machine kernel(Poly) | Accuracy % |\n",
      "+-------------------------------------+------------+\n",
      "|            Training Data            |   24.56    |\n",
      "|              Test Data              |   20.87    |\n",
      "+-------------------------------------+------------+\n"
     ]
    }
   ],
   "source": [
    "from sklearn.svm import SVC\n",
    "classifier=SVC(random_state=0,kernel='poly')\n",
    "classifier.fit(X1_train,Y1_train)\n",
    "y_pred=classifier.predict(X1_test)\n",
    "y_train=classifier.predict(X1_train)\n",
    "#Making the Confusion Matrix\n",
    "\n",
    "from sklearn.metrics import confusion_matrix\n",
    "cm=confusion_matrix(Y1_test,y_pred,)\n",
    "\n",
    "print(\"Confusion Matrix :\")\n",
    "print(cm)\n",
    "\n",
    "table=PrettyTable(['Support Vector Machine kernel(Poly)','Accuracy %'])\n",
    "table.add_row(['Training Data',round(accuracy_score(Y1_train, y_train)*100,2)])\n",
    "table.add_row(['Test Data',round(accuracy_score(Y1_test, y_pred)*100,2)])\n",
    "print(table)\n"
   ]
  },
  {
   "cell_type": "code",
   "execution_count": null,
   "metadata": {
    "collapsed": true
   },
   "outputs": [],
   "source": []
  },
  {
   "cell_type": "code",
   "execution_count": null,
   "metadata": {
    "collapsed": true
   },
   "outputs": [],
   "source": []
  },
  {
   "cell_type": "markdown",
   "metadata": {},
   "source": [
    "# Logistic Regression"
   ]
  },
  {
   "cell_type": "code",
   "execution_count": 37,
   "metadata": {
    "collapsed": false
   },
   "outputs": [
    {
     "name": "stdout",
     "output_type": "stream",
     "text": [
      "Confusion Matrix :\n",
      "[[0 0 0 ... 0 0 0]\n",
      " [0 0 0 ... 0 0 0]\n",
      " [0 0 0 ... 0 0 0]\n",
      " ...\n",
      " [0 0 0 ... 2 0 0]\n",
      " [0 0 0 ... 0 0 0]\n",
      " [0 0 0 ... 0 0 0]]\n",
      "+-----------------------------------+------------+\n",
      "| Logistic Regression(Multinominal) | Accuracy % |\n",
      "+-----------------------------------+------------+\n",
      "|           Training Data           |   74.47    |\n",
      "|             Test Data             |   67.89    |\n",
      "+-----------------------------------+------------+\n"
     ]
    }
   ],
   "source": [
    "from sklearn.linear_model import LogisticRegression\n",
    "classifier=LogisticRegression(random_state=0,multi_class='multinomial',solver='newton-cg')\n",
    "classifier.fit(X1_train,Y1_train)\n",
    "\n",
    "y_pred=classifier.predict(X1_test)\n",
    "y_train=classifier.predict(X1_train)\n",
    "\n",
    "from sklearn.metrics import confusion_matrix\n",
    "cm=confusion_matrix(Y1_test,y_pred)\n",
    "\n",
    "print(\"Confusion Matrix :\")\n",
    "print(cm)\n",
    "\n",
    "table=PrettyTable(['Logistic Regression(Multinominal)','Accuracy %'])\n",
    "table.add_row(['Training Data',round(accuracy_score(Y1_train, y_train)*100,2)])\n",
    "table.add_row(['Test Data',round(accuracy_score(Y1_test, y_pred)*100,2)])\n",
    "print(table)\n"
   ]
  },
  {
   "cell_type": "code",
   "execution_count": null,
   "metadata": {
    "collapsed": false
   },
   "outputs": [],
   "source": []
  },
  {
   "cell_type": "markdown",
   "metadata": {},
   "source": [
    "# Cross-Validation- Logistic Regression"
   ]
  },
  {
   "cell_type": "code",
   "execution_count": 38,
   "metadata": {
    "collapsed": false,
    "scrolled": true
   },
   "outputs": [
    {
     "name": "stderr",
     "output_type": "stream",
     "text": [
      "C:\\Users\\tejve\\Anaconda2\\envs\\Python3.6Test\\lib\\site-packages\\sklearn\\cross_validation.py:553: Warning: The least populated class in y has only 1 members, which is too few. The minimum number of labels for any class cannot be less than n_folds=2.\n",
      "  % (min_labels, self.n_folds)), Warning)\n",
      "C:\\Users\\tejve\\Anaconda2\\envs\\Python3.6Test\\lib\\site-packages\\sklearn\\cross_validation.py:553: Warning: The least populated class in y has only 1 members, which is too few. The minimum number of labels for any class cannot be less than n_folds=3.\n",
      "  % (min_labels, self.n_folds)), Warning)\n",
      "C:\\Users\\tejve\\Anaconda2\\envs\\Python3.6Test\\lib\\site-packages\\sklearn\\cross_validation.py:553: Warning: The least populated class in y has only 1 members, which is too few. The minimum number of labels for any class cannot be less than n_folds=4.\n",
      "  % (min_labels, self.n_folds)), Warning)\n",
      "C:\\Users\\tejve\\Anaconda2\\envs\\Python3.6Test\\lib\\site-packages\\sklearn\\cross_validation.py:553: Warning: The least populated class in y has only 1 members, which is too few. The minimum number of labels for any class cannot be less than n_folds=5.\n",
      "  % (min_labels, self.n_folds)), Warning)\n",
      "C:\\Users\\tejve\\Anaconda2\\envs\\Python3.6Test\\lib\\site-packages\\sklearn\\cross_validation.py:553: Warning: The least populated class in y has only 1 members, which is too few. The minimum number of labels for any class cannot be less than n_folds=6.\n",
      "  % (min_labels, self.n_folds)), Warning)\n"
     ]
    },
    {
     "name": "stdout",
     "output_type": "stream",
     "text": [
      "+-----------------+------------+\n",
      "| Number of Folds | Accuracy % |\n",
      "+-----------------+------------+\n",
      "|        2        |   65.36    |\n",
      "|        3        |   65.82    |\n",
      "|        4        |    67.4    |\n",
      "|        5        |   67.84    |\n",
      "|        6        |   67.86    |\n",
      "+-----------------+------------+\n"
     ]
    }
   ],
   "source": [
    "from sklearn.cross_validation import cross_val_score\n",
    "\n",
    "table = PrettyTable(['Number of Folds','Accuracy %'])\n",
    "for i in range(5):\n",
    "     \n",
    "      accuracies=cross_val_score(estimator=classifier,X=X1_train,y=Y1_train,cv=i+2)\n",
    "      table.add_row([i+2,round(accuracies.mean()*100,2)])\n",
    "        \n",
    "print(table)\n"
   ]
  },
  {
   "cell_type": "code",
   "execution_count": null,
   "metadata": {
    "collapsed": true
   },
   "outputs": [],
   "source": []
  },
  {
   "cell_type": "markdown",
   "metadata": {},
   "source": [
    "#  3. The Variable to be predicted (dependent variable) is a imbalance class as certain classes have higher proportion in the Dataset and We will solve this problem below and increase accuracy of our prediction."
   ]
  },
  {
   "cell_type": "code",
   "execution_count": 39,
   "metadata": {
    "collapsed": false
   },
   "outputs": [
    {
     "name": "stdout",
     "output_type": "stream",
     "text": [
      "+-------------------------------------------------------------------------------------------------+---------------------+\n",
      "|                                   Predited(dependent Variable)                                  | Number of instances |\n",
      "+-------------------------------------------------------------------------------------------------+---------------------+\n",
      "|                                             Taliban                                             |         333         |\n",
      "|                           Islamic State of Iraq and the Levant (ISIL)                           |         246         |\n",
      "|                                            Al-Shabaab                                           |         159         |\n",
      "|                                             Maoists                                             |         114         |\n",
      "|                                            Boko Haram                                           |         110         |\n",
      "|                                              Gunmen                                             |          97         |\n",
      "|                                     New People's Army (NPA)                                     |          83         |\n",
      "|                             Al-Qaida in the Arabian Peninsula (AQAP)                            |          69         |\n",
      "|                                 Tehrik-i-Taliban Pakistan (TTP)                                 |          66         |\n",
      "|                                      Palestinian Extremists                                     |          44         |\n",
      "|                                 Houthi extremists (Ansar Allah)                                 |          41         |\n",
      "|                                         Al-Qaida in Iraq                                        |          39         |\n",
      "|                            Bangsamoro Islamic Freedom Movement (BIFM)                           |          39         |\n",
      "|                          Communist Party of India - Maoist (CPI-Maoist)                         |          35         |\n",
      "|                                  Kurdistan Workers' Party (PKK)                                 |          34         |\n",
      "|                          Revolutionary Armed Forces of Colombia (FARC)                          |          33         |\n",
      "|                                            Militants                                            |          27         |\n",
      "|                                      Abu Sayyaf Group (ASG)                                     |          25         |\n",
      "|                               Sinai Province of the Islamic State                               |          23         |\n",
      "|                                           Separatists                                           |          22         |\n",
      "|                                  Allied Democratic Forces (ADF)                                 |          18         |\n",
      "|                                        Muslim extremists                                        |          17         |\n",
      "|                                   Baloch Republican Army (BRA)                                  |          15         |\n",
      "|                           National Democratic Front of Bodoland (NDFB)                          |          13         |\n",
      "|                                    Donetsk People's Republic                                    |          12         |\n",
      "|                              Khorasan Chapter of the Islamic State                              |          12         |\n",
      "|                                  Baloch Liberation Front (BLF)                                  |          12         |\n",
      "|                                  Garo National Liberation Army                                  |          12         |\n",
      "|                               Hamas (Islamic Resistance Movement)                               |          11         |\n",
      "|                            National Liberation Army of Colombia (ELN)                           |          11         |\n",
      "|                                        Fulani extremists                                        |          11         |\n",
      "|                                    Jihadi-inspired extremists                                   |          10         |\n",
      "|                              Tripoli Province of the Islamic State                              |          9          |\n",
      "|                                      Lashkar-e-Taiba (LeT)                                      |          9          |\n",
      "|                                            Anarchists                                           |          9          |\n",
      "|                                            Janjaweed                                            |          9          |\n",
      "|                   National Socialist Council of Nagaland-Isak-Muivah (NSCN-IM)                  |          8          |\n",
      "|                                    Runda Kumpulan Kecil (RKK)                                   |          8          |\n",
      "|                                   Jamaat-E-Islami (Bangladesh)                                  |          7          |\n",
      "|                                   Baloch Liberation Army (BLA)                                  |          7          |\n",
      "|                                       Ansar al-Dine (Mali)                                      |          7          |\n",
      "|                                        Lashkar-e-Jhangvi                                        |          7          |\n",
      "|                                      Hizbul Mujahideen (HM)                                     |          6          |\n",
      "|                                    Lashkar-e-Islam (Pakistan)                                   |          6          |\n",
      "|                                      Al-Naqshabandiya Army                                      |          6          |\n",
      "|                                  Informal Anarchist Federation                                  |          5          |\n",
      "|                             Adan-Abyan Province of the Islamic State                            |          5          |\n",
      "|                                      Dissident Republicans                                      |          5          |\n",
      "|                            Sudan People's Liberation Movement - North                           |          5          |\n",
      "|                                Southern Mobility Movement (Yemen)                               |          5          |\n",
      "|                               Barqa Province of the Islamic State                               |          5          |\n",
      "|                              Al-Qaida in the Islamic Maghreb (AQIM)                             |          5          |\n",
      "|                                     United Baloch Army (UBA)                                    |          5          |\n",
      "|                                     Abdullah Azzam Brigades                                     |          4          |\n",
      "|                                  Kurdistan Freedom Hawks (TAK)                                  |          4          |\n",
      "|                                      Anti-Muslim extremists                                     |          4          |\n",
      "|                        Free Papua Movement (OPM-Organisasi Papua Merdeka)                       |          4          |\n",
      "|                          Mozambique National Resistance Movement (MNR)                          |          4          |\n",
      "|                                 People's Liberation Army (India)                                |          4          |\n",
      "|                                         Al-Nusrah Front                                         |          4          |\n",
      "|                                         Free Syrian Army                                        |          4          |\n",
      "|                                            Insurgents                                           |          4          |\n",
      "|                              Ansar Bayt al-Maqdis (Ansar Jerusalem)                             |          3          |\n",
      "|                                  Paraguayan People's Army (EPP)                                 |          3          |\n",
      "|                              Caucasus Province of the Islamic State                             |          3          |\n",
      "|                                       Rohingya extremists                                       |          3          |\n",
      "|                                   Islamic State in Bangladesh                                   |          3          |\n",
      "|                                Manipur Naga People's Army (MNPA)                                |          3          |\n",
      "|                                            Tribesmen                                            |          3          |\n",
      "|                     National Socialist Council of Nagaland-Khaplang (NSCN-K)                    |          3          |\n",
      "|                                       Jundallah (Pakistan)                                      |          3          |\n",
      "|                             United National Liberation Front (UNLF)                             |          3          |\n",
      "|                       Popular Front for the Liberation of Palestine (PFLP)                      |          3          |\n",
      "|                             United Liberation Front of Assam (ULFA)                             |          3          |\n",
      "|                             Devrimici Halk Kurtulus Cephesi (DHKP/C)                            |          3          |\n",
      "|                                       Anti-Balaka Militia                                       |          3          |\n",
      "|                                         Militia Members                                         |          3          |\n",
      "|                                     Ansar al-Sharia (Libya)                                     |          3          |\n",
      "|                                           Maute Group                                           |          3          |\n",
      "|                                        Israeli extremists                                       |          2          |\n",
      "|                                         Israeli settlers                                        |          2          |\n",
      "|                            Movement of Democratic Forces of Casamance                           |          2          |\n",
      "|                                    Militant Minority (Greece)                                   |          2          |\n",
      "|                                       Oglaigh na hEireann                                       |          2          |\n",
      "|                                  Arab Movement of Azawad (MAA)                                  |          2          |\n",
      "|                              Kamtapur Liberation Organization (KLO)                             |          2          |\n",
      "|                       Ansaru (Jama'atu Ansarul Muslimina Fi Biladis Sudan)                      |          2          |\n",
      "|                                    Luhansk People's Republic                                    |          2          |\n",
      "|                                    Jamiat ul-Mujahedin (JuM)                                    |          2          |\n",
      "|                                         Haqqani Network                                         |          2          |\n",
      "|                                        Al-Ashtar Brigades                                       |          2          |\n",
      "|                              Janatantrik Terai Mukti Morcha (JTMM)                              |          2          |\n",
      "|                       Democratic Front for the Liberation of Rwanda (FDLR)                      |          2          |\n",
      "|                                            Mayi Mayi                                            |          2          |\n",
      "|                                      Corsican Nationalists                                      |          2          |\n",
      "|                                    Kuki National Front (KNF)                                    |          2          |\n",
      "|                            Students Islamic Movement of India (SIMI)                            |          2          |\n",
      "|                                         Punjabi Taliban                                         |          2          |\n",
      "|                       People's Revolutionary Party of Kangleipak (PREPAK)                       |          2          |\n",
      "|                                  Kachin Independence Army (KIA)                                 |          2          |\n",
      "|                       Communist Party of Nepal - Maoist (CPN-Maoist-Chand)                      |          2          |\n",
      "|                                    Group of Popular Fighters                                    |          2          |\n",
      "|                                 Mombasa Republican Council (MRC)                                |          2          |\n",
      "|                                  The New Irish Republican Army                                  |          2          |\n",
      "|                          National Democratic Alliance Army (NDAA-ESSA)                          |          2          |\n",
      "|                      Military Council of the Tribal Revolutionaries (MCTR)                      |          2          |\n",
      "|                                People's Liberation Front of India                               |          2          |\n",
      "|                                       Pro Hartal Activists                                      |          2          |\n",
      "|                                        Uighur Separatists                                       |          2          |\n",
      "|                              Jama'atul Mujahideen Bangladesh (JMB)                              |          2          |\n",
      "|                                 Kangleipak Communist Party (KCP)                                |          2          |\n",
      "|                                         Caucasus Emirate                                        |          2          |\n",
      "|                               Islamic Movement of Uzbekistan (IMU)                              |          1          |\n",
      "|                                            Loyalists                                            |          1          |\n",
      "|                                       Rubicon (Rouvikonas)                                      |          1          |\n",
      "|                                        Lekagak Tenggamati                                       |          1          |\n",
      "|                                  Ansar Al-Khilafa (Philippines)                                 |          1          |\n",
      "|                                   Lord's Resistance Army (LRA)                                  |          1          |\n",
      "|                                   Islamic Movement of Kashmir                                   |          1          |\n",
      "|                                          Jaish-e-Islam                                          |          1          |\n",
      "|                               Fezzan Province of the Islamic State                              |          1          |\n",
      "|                                    United Revolutionary Front                                   |          1          |\n",
      "|                                              Youths                                             |          1          |\n",
      "|                                       Baloch Nationalists                                       |          1          |\n",
      "|                                    Anti-Government extremists                                   |          1          |\n",
      "|                                Sindhu Desh Liberation Army (SDLA)                               |          1          |\n",
      "|                               Samyukta Jatiya Mukti Morcha (SJMM)                               |          1          |\n",
      "|                                 Supporters of Ali Abdullah Saleh                                |          1          |\n",
      "| Core Conspirators for the Extension of Chaos (Núcleo de Conspiradores por la Extensión de Kaos) |          1          |\n",
      "|                             Karbi People's Liberation Tigers (KPLT)                             |          1          |\n",
      "|                                        Jabha East Africa                                        |          1          |\n",
      "|                                     Mai Mai Mazembe Militia                                     |          1          |\n",
      "|                              Free Network South (Freies Netz Sued)                              |          1          |\n",
      "|                                           Abida Tribe                                           |          1          |\n",
      "|                                   Conspiracy of Cells of Fire                                   |          1          |\n",
      "|                                        Jewish Extremists                                        |          1          |\n",
      "|                                         Zintani Militia                                         |          1          |\n",
      "|                              Algeria Province of the Islamic State                              |          1          |\n",
      "|                                         Tawheedul Islam                                         |          1          |\n",
      "|                                  Unification Army Sons Brigade                                  |          1          |\n",
      "|                                    Madhesi Mukti Tigers (MMT)                                   |          1          |\n",
      "|                                           Jaish al-Adl                                          |          1          |\n",
      "|                                     Kilafah Islamic Movement                                    |          1          |\n",
      "|                            Corsican National Liberation Front (FLNC)                            |          1          |\n",
      "|                                   Anarchist Attack Consortium                                   |          1          |\n",
      "|                                   Anarchist Cell Acca (C.A.A.)                                  |          1          |\n",
      "|                                      Lashkar-e-Balochistan                                      |          1          |\n",
      "|                                            Hezbollah                                            |          1          |\n",
      "|                                     Sindh Revolutionary Army                                    |          1          |\n",
      "|                                       Jemaah Islamiya (JI)                                      |          1          |\n",
      "|                                 Benghazi Defense Brigades (BDB)                                 |          1          |\n",
      "|                                  Macina Liberation Front (FLM)                                  |          1          |\n",
      "|                             Continuity Irish Republican Army (CIRA)                             |          1          |\n",
      "|                                      Anti-Police extremists                                     |          1          |\n",
      "|                                  Derna Mujahideen Shura Council                                 |          1          |\n",
      "|                                          Hasam Movement                                         |          1          |\n",
      "|                                   Jewish Defense League (JDL)                                   |          1          |\n",
      "|                                      Jaish-e-Mohammad (JeM)                                     |          1          |\n",
      "|                                    Islamic Movement (Nigeria)                                   |          1          |\n",
      "|                                 Barisan Revolusi Nasional (BRN)                                 |          1          |\n",
      "|            Tehrik-e-Nifaz-e-Aman Balochistan-Jhalawan Brigade (TNAB-Jhalawan Brigade)           |          1          |\n",
      "|                                      Shia Muslim extremists                                     |          1          |\n",
      "|                                         Mujahideen Ansar                                        |          1          |\n",
      "|                           Convention of Patriots for Justice and Peace                          |          1          |\n",
      "|                              Ta'ang National Liberation Army (TNLA)                             |          1          |\n",
      "|                                   Biswabhumi Sena Bishal Nepal                                  |          1          |\n",
      "|                                         Hutu extremists                                         |          1          |\n",
      "|                                        Al-Fateh Al-Jadid                                        |          1          |\n",
      "|                                  Ahlu-sunah Wal-jamea (Somalia)                                 |          1          |\n",
      "|                                Bangladesh Nationalist Party (BNP)                               |          1          |\n",
      "|                               Moro Islamic Liberation Front (MILF)                              |          1          |\n",
      "|                                          Fatah al-Islam                                         |          1          |\n",
      "|                                         Jamaat-ul-Ahrar                                         |          1          |\n",
      "|                                            Haji Fateh                                           |          1          |\n",
      "|                                    Ansar al-Imam Musa al-Sadr                                   |          1          |\n",
      "|                                  Diraa al-Shahbaa Rebel Brigade                                 |          1          |\n",
      "|                                           Mukhtar Army                                          |          1          |\n",
      "|                                     Anti-Semitic extremists                                     |          1          |\n",
      "|                              Popular Resistance Committees (Yemen)                              |          1          |\n",
      "|                                   Ramiro Ledesma Social Centre                                  |          1          |\n",
      "|                  The Independent Military Wing of the Syrian Revolution Abroad                  |          1          |\n",
      "|                                      Right-wing extremists                                      |          1          |\n",
      "|                                  Kuki Revolutionary Army (KRA)                                  |          1          |\n",
      "|                                  Baloch Liberation Tigers (BLT)                                 |          1          |\n",
      "|                                          Secessionists                                          |          1          |\n",
      "|                                       Anti-Park extremists                                      |          1          |\n",
      "|                                      Jaysh al-Islam (Syria)                                     |          1          |\n",
      "|                                 Mujahidin Indonesia Timur (MIT)                                 |          1          |\n",
      "|                      Movement for Oneness and Jihad in West Africa (MUJAO)                      |          1          |\n",
      "|                           Sudan Liberation Army-Minni Minawi (SLA-MM)                           |          1          |\n",
      "|                                 Baloch National Liberation Front                                |          1          |\n",
      "|                                         Iraqi extremists                                        |          1          |\n",
      "|                                           Awami League                                          |          1          |\n",
      "|                                  Popular Resistance Committees                                  |          1          |\n",
      "|                                     Sunni Muslim extremists                                     |          1          |\n",
      "|                            Azawad National Liberation Movement (MNLA)                           |          1          |\n",
      "|                                         Jund Ansar Allah                                        |          1          |\n",
      "|                                   Adivasi People's Army (APA)                                   |          1          |\n",
      "|                                            Miscreants                                           |          1          |\n",
      "|                                 Palestinian Islamic Jihad (PIJ)                                 |          1          |\n",
      "|                              Tamil Makkal Viduthalai Pulikal (TMVP)                             |          1          |\n",
      "|                         Arauco Malleco Coordinating Group (CAM) - Chile                         |          1          |\n",
      "|                           National Liberation Front of Tripura (NLFT)                           |          1          |\n",
      "|                               Individuals Tending Toward Savagery                               |          1          |\n",
      "|                     Revolutionary Insurgent Armed Forces of Ecuador (FAIRE)                     |          1          |\n",
      "|                         Jharkhand Kranti Raksha Dal (Utari Chotanagpur)                         |          1          |\n",
      "|                                          Hizb-I-Islami                                          |          1          |\n",
      "+-------------------------------------------------------------------------------------------------+---------------------+\n"
     ]
    }
   ],
   "source": [
    "table=PrettyTable(['Predited(dependent Variable)','Number of instances'])\n",
    "\n",
    "for i in range(len(dataset['PERPETRATOR 1'].value_counts())):\n",
    "    table.add_row([dataset['PERPETRATOR 1'].value_counts().index.tolist()[i],dataset['PERPETRATOR 1'].value_counts().values[i]])\n",
    "print(table)    \n"
   ]
  },
  {
   "cell_type": "markdown",
   "metadata": {},
   "source": [
    "# Decode the value of topmost  Perpetrator having total count atleast 50"
   ]
  },
  {
   "cell_type": "code",
   "execution_count": 40,
   "metadata": {
    "collapsed": false
   },
   "outputs": [],
   "source": [
    "Top_Perpertator=[]\n",
    "for i in range(len(dataset['PERPETRATOR 1'].value_counts())):\n",
    "               \n",
    "      if(dataset['PERPETRATOR 1'].value_counts().values[i]>50):\n",
    "               \n",
    "                    Top_Perpertator.append(dataset['PERPETRATOR 1'].value_counts().index.tolist()[i])\n",
    "\n",
    "cat_list =list(dataset.iloc[:,1].values)\n",
    "encoded_data, mapping_index = pd.Series(cat_list).factorize()\n",
    "\n",
    "Perpertaor_coding=[]\n",
    "for i in range(len(Top_Perpertator)):\n",
    "    Perpertaor_coding.append(mapping_index.get_loc(Top_Perpertator[i]))\n"
   ]
  },
  {
   "cell_type": "markdown",
   "metadata": {},
   "source": [
    "# Combine the independent and dependent variables after encoding the categorical variables"
   ]
  },
  {
   "cell_type": "code",
   "execution_count": 41,
   "metadata": {
    "collapsed": false,
    "scrolled": true
   },
   "outputs": [],
   "source": [
    "Whole_dataset=np.column_stack((X,np.array(encoded_data)))\n"
   ]
  },
  {
   "cell_type": "code",
   "execution_count": 42,
   "metadata": {
    "collapsed": false
   },
   "outputs": [
    {
     "data": {
      "text/plain": [
       "(2179, 102)"
      ]
     },
     "execution_count": 42,
     "metadata": {},
     "output_type": "execute_result"
    }
   ],
   "source": [
    "Whole_dataset.shape\n"
   ]
  },
  {
   "cell_type": "markdown",
   "metadata": {},
   "source": [
    "# Remove the problem of Imbalance dataset by splitting the training and test data for that particular class "
   ]
  },
  {
   "cell_type": "code",
   "execution_count": 43,
   "metadata": {
    "collapsed": false
   },
   "outputs": [],
   "source": [
    "dataset_Reduced_1=Whole_dataset[(Whole_dataset[:,-1]==Perpertaor_coding[0])]\n",
    "\n",
    "X1=dataset_Reduced_1[:,0:Whole_dataset.shape[1]-1]\n",
    "Y1=dataset_Reduced_1[:,Whole_dataset.shape[1]-1]\n",
    "X1_train,X1_test,Y1_train,Y1_test=train_test_split(X1,Y1,test_size=0.2,random_state=0)\n",
    "        "
   ]
  },
  {
   "cell_type": "code",
   "execution_count": 44,
   "metadata": {
    "collapsed": false
   },
   "outputs": [],
   "source": [
    "\n",
    "\n",
    "for i in range(len(Top_Perpertator)-1):\n",
    "            dataset_Reduced_1=Whole_dataset[(Whole_dataset[:,-1]==Perpertaor_coding[i+1])]\n",
    "\n",
    "            X1=dataset_Reduced_1[:,0:Whole_dataset.shape[1]-1]\n",
    "            Y1=dataset_Reduced_1[:,Whole_dataset.shape[1]-1]\n",
    "            X2_train,X2_test,Y2_train,Y2_test=train_test_split(X1,Y1,test_size=0.2,random_state=0)\n",
    "            X1_train= np.concatenate((X1_train,X2_train),axis=0)\n",
    "            Y1_train= np.concatenate((Y1_train,Y2_train),axis=0)\n",
    "            X1_test= np.concatenate((X1_test,X2_test),axis=0)\n",
    "            Y1_test= np.concatenate((Y1_test,Y2_test),axis=0)\n"
   ]
  },
  {
   "cell_type": "markdown",
   "metadata": {
    "collapsed": true
   },
   "source": [
    "# Making all the other classes =0 (others)-Feature Engineering"
   ]
  },
  {
   "cell_type": "code",
   "execution_count": 45,
   "metadata": {
    "collapsed": false
   },
   "outputs": [],
   "source": [
    "Whole_dataset=pd.DataFrame(data=Whole_dataset)\n",
    "Whole_dataset=Whole_dataset[~(Whole_dataset.iloc[:,101].isin(Perpertaor_coding))].copy()\n",
    "Whole_dataset.iloc[:,101]=0\n",
    "\n",
    "X1=Whole_dataset.iloc[:,0:Whole_dataset.shape[1]-1]\n",
    "Y1=Whole_dataset.iloc[:,Whole_dataset.shape[1]-1]\n",
    "X2_train,X2_test,Y2_train,Y2_test=train_test_split(X1,Y1,test_size=0.2,random_state=0)\n",
    "X1_train= np.concatenate((X1_train,X2_train),axis=0)\n",
    "Y1_train= np.concatenate((Y1_train,Y2_train),axis=0)\n",
    "X1_test= np.concatenate((X1_test,X2_test),axis=0)\n",
    "Y1_test= np.concatenate((Y1_test,Y2_test),axis=0)"
   ]
  },
  {
   "cell_type": "code",
   "execution_count": null,
   "metadata": {
    "collapsed": false
   },
   "outputs": [],
   "source": []
  },
  {
   "cell_type": "code",
   "execution_count": null,
   "metadata": {
    "collapsed": false
   },
   "outputs": [],
   "source": []
  },
  {
   "cell_type": "markdown",
   "metadata": {},
   "source": [
    "# We will do Feature Scaling so that we can predict things Appropriately\n"
   ]
  },
  {
   "cell_type": "code",
   "execution_count": 46,
   "metadata": {
    "collapsed": true
   },
   "outputs": [],
   "source": [
    "#Feature Scaling\n",
    "\n",
    "from sklearn.preprocessing import StandardScaler\n",
    "\n",
    "Sc_X=StandardScaler()\n",
    "X1_train=Sc_X.fit_transform(X1_train)\n",
    "X1_test=Sc_X.transform(X1_test)"
   ]
  },
  {
   "cell_type": "markdown",
   "metadata": {},
   "source": [
    "# Apply Machine Learning Classification Algorithm"
   ]
  },
  {
   "cell_type": "markdown",
   "metadata": {},
   "source": [
    "# 1. Support Vector Machine (Using Kernel='Linear')"
   ]
  },
  {
   "cell_type": "code",
   "execution_count": 47,
   "metadata": {
    "collapsed": true
   },
   "outputs": [],
   "source": [
    "from sklearn.svm import LinearSVC\n",
    "classifier=LinearSVC(random_state=0,multi_class='crammer_singer' )"
   ]
  },
  {
   "cell_type": "code",
   "execution_count": 48,
   "metadata": {
    "collapsed": false
   },
   "outputs": [
    {
     "data": {
      "text/plain": [
       "LinearSVC(C=1.0, class_weight=None, dual=True, fit_intercept=True,\n",
       "     intercept_scaling=1, loss='squared_hinge', max_iter=1000,\n",
       "     multi_class='crammer_singer', penalty='l2', random_state=0,\n",
       "     tol=0.0001, verbose=0)"
      ]
     },
     "execution_count": 48,
     "metadata": {},
     "output_type": "execute_result"
    }
   ],
   "source": [
    "classifier.fit(X1_train,Y1_train)"
   ]
  },
  {
   "cell_type": "code",
   "execution_count": 49,
   "metadata": {
    "collapsed": true
   },
   "outputs": [],
   "source": [
    "y_pred=classifier.predict(X1_test)\n",
    "\n",
    "Y_train=classifier.predict(X1_train)"
   ]
  },
  {
   "cell_type": "code",
   "execution_count": 50,
   "metadata": {
    "collapsed": false
   },
   "outputs": [
    {
     "name": "stdout",
     "output_type": "stream",
     "text": [
      "Confusion Matrix :\n"
     ]
    },
    {
     "data": {
      "text/plain": [
       "<Figure size 432x288 with 0 Axes>"
      ]
     },
     "metadata": {},
     "output_type": "display_data"
    },
    {
     "data": {
      "image/png": "[encoded data removed]",
      "text/plain": [
       "<Figure size 180x180 with 1 Axes>"
      ]
     },
     "metadata": {},
     "output_type": "display_data"
    }
   ],
   "source": [
    "#Making the Confusion Matrix\n",
    "\n",
    "\n",
    "from sklearn.metrics import confusion_matrix\n",
    "\n",
    "labels = ['others']\n",
    "for i in range(len(Top_Perpertator)):\n",
    "    labels.append(Top_Perpertator[i])\n",
    "\n",
    "cm=confusion_matrix(Y1_test,y_pred)\n",
    "\n",
    "print(\"Confusion Matrix :\")\n",
    "\n",
    "plt.clf()\n",
    "\n",
    "fig, ax = plot_confusion_matrix(conf_mat=cm)\n",
    "classNames =labels\n",
    "plt.title('Perpertrator Group')\n",
    "plt.ylabel('True label')\n",
    "plt.xlabel('Predicted label')\n",
    "tick_marks = np.arange(len(classNames))\n",
    "plt.xticks(tick_marks, classNames, rotation=90)\n",
    "plt.yticks(tick_marks, classNames)\n",
    "plt.show()"
   ]
  },
  {
   "cell_type": "code",
   "execution_count": 51,
   "metadata": {
    "collapsed": false
   },
   "outputs": [
    {
     "name": "stdout",
     "output_type": "stream",
     "text": [
      "+---------------------------------------+------------+\n",
      "| Support Vector Machine kernel(Linear) | Accuracy % |\n",
      "+---------------------------------------+------------+\n",
      "|             Training Data             |   84.59    |\n",
      "|               Test Data               |   78.64    |\n",
      "+---------------------------------------+------------+\n",
      "+---------------------------------------------+-----------+--------+--------+\n",
      "|                    labels                   | Precision | Recall | Fscore |\n",
      "+---------------------------------------------+-----------+--------+--------+\n",
      "|                    others                   |    0.77   |  0.77  |  0.77  |\n",
      "|                   Taliban                   |    0.89   |  0.96  |  0.92  |\n",
      "| Islamic State of Iraq and the Levant (ISIL) |    0.53   |  0.4   |  0.46  |\n",
      "|                  Al-Shabaab                 |    0.58   |  0.3   |  0.4   |\n",
      "|                   Maoists                   |    0.54   |  0.5   |  0.52  |\n",
      "|                  Boko Haram                 |    0.85   |  1.0   |  0.92  |\n",
      "|                    Gunmen                   |    0.91   |  0.97  |  0.94  |\n",
      "|           New People's Army (NPA)           |    0.57   |  0.86  |  0.69  |\n",
      "|   Al-Qaida in the Arabian Peninsula (AQAP)  |    0.78   |  0.82  |  0.8   |\n",
      "|       Tehrik-i-Taliban Pakistan (TTP)       |    0.86   |  0.84  |  0.85  |\n",
      "+---------------------------------------------+-----------+--------+--------+\n"
     ]
    }
   ],
   "source": [
    "table=PrettyTable(['Support Vector Machine kernel(Linear)','Accuracy %'])\n",
    "table.add_row(['Training Data',round(accuracy_score(Y1_train, Y_train)*100,2)])\n",
    "table.add_row(['Test Data',round(accuracy_score(Y1_test, y_pred)*100,2)])\n",
    "print(table)\n",
    "\n",
    "precision, recall, fscore, support = score(Y1_test, y_pred)\n",
    "table = PrettyTable(['labels','Precision','Recall','Fscore'])\n",
    "for i in range(len(labels)):\n",
    "    table.add_row([labels[i],round(precision[i],2),round(recall[i],2),round(fscore[i],2)])\n",
    "print(table)\n",
    "\n"
   ]
  },
  {
   "cell_type": "markdown",
   "metadata": {},
   "source": [
    "# Evaluating the Effectivness of Model - Cross_Validation"
   ]
  },
  {
   "cell_type": "code",
   "execution_count": 52,
   "metadata": {
    "collapsed": false
   },
   "outputs": [
    {
     "name": "stdout",
     "output_type": "stream",
     "text": [
      "+-----------------+------------+\n",
      "| Number of Folds | Accuracy % |\n",
      "+-----------------+------------+\n",
      "|        2        |   76.02    |\n",
      "|        3        |   76.54    |\n",
      "|        4        |   78.03    |\n",
      "|        5        |   77.46    |\n",
      "|        6        |    77.7    |\n",
      "+-----------------+------------+\n"
     ]
    }
   ],
   "source": [
    "from sklearn.cross_validation import cross_val_score\n",
    "\n",
    "table = PrettyTable(['Number of Folds','Accuracy %'])\n",
    "for i in range(5):\n",
    "     \n",
    "      accuracies=cross_val_score(estimator=classifier,X=X1_train,y=Y1_train,cv=i+2)\n",
    "      table.add_row([i+2,round(accuracies.mean()*100,2)])\n",
    "        \n",
    "print(table)\n"
   ]
  },
  {
   "cell_type": "code",
   "execution_count": null,
   "metadata": {
    "collapsed": true
   },
   "outputs": [],
   "source": []
  },
  {
   "cell_type": "code",
   "execution_count": null,
   "metadata": {
    "collapsed": true
   },
   "outputs": [],
   "source": []
  },
  {
   "cell_type": "code",
   "execution_count": null,
   "metadata": {
    "collapsed": true
   },
   "outputs": [],
   "source": []
  },
  {
   "cell_type": "markdown",
   "metadata": {},
   "source": [
    "# By using Kernel='rbf'"
   ]
  },
  {
   "cell_type": "code",
   "execution_count": 53,
   "metadata": {
    "collapsed": false
   },
   "outputs": [
    {
     "name": "stdout",
     "output_type": "stream",
     "text": [
      "Confusion Matrix :\n"
     ]
    },
    {
     "data": {
      "text/plain": [
       "<Figure size 432x288 with 0 Axes>"
      ]
     },
     "metadata": {},
     "output_type": "display_data"
    },
    {
     "data": {
      "image/png": "[encoded data removed]",
      "text/plain": [
       "<Figure size 180x180 with 1 Axes>"
      ]
     },
     "metadata": {},
     "output_type": "display_data"
    }
   ],
   "source": [
    "#Applying the Kernel='rbf'\n",
    "\n",
    "from sklearn.svm import SVC\n",
    "classifier=SVC(kernel='rbf',random_state=0)\n",
    "classifier.fit(X1_train,Y1_train)\n",
    "y_pred=classifier.predict(X1_test)\n",
    "Y_train=classifier.predict(X1_train)\n",
    "\n",
    "#Making the Confusion Matrix\n",
    "\n",
    "\n",
    "from sklearn.metrics import confusion_matrix\n",
    "\n",
    "labels = ['others']\n",
    "for i in range(len(Top_Perpertator)):\n",
    "    labels.append(Top_Perpertator[i])\n",
    "\n",
    "cm=confusion_matrix(Y1_test,y_pred)\n",
    "\n",
    "print(\"Confusion Matrix :\")\n",
    "\n",
    "plt.clf()\n",
    "\n",
    "fig, ax = plot_confusion_matrix(conf_mat=cm)\n",
    "classNames =labels\n",
    "plt.title('Perpertrator Group')\n",
    "plt.ylabel('True label')\n",
    "plt.xlabel('Predicted label')\n",
    "tick_marks = np.arange(len(classNames))\n",
    "plt.xticks(tick_marks, classNames, rotation=90)\n",
    "plt.yticks(tick_marks, classNames)\n",
    "plt.show()"
   ]
  },
  {
   "cell_type": "code",
   "execution_count": 54,
   "metadata": {
    "collapsed": false
   },
   "outputs": [
    {
     "name": "stdout",
     "output_type": "stream",
     "text": [
      "+------------------------------------+------------+\n",
      "| Support Vector Machine kernel(rbf) | Accuracy % |\n",
      "+------------------------------------+------------+\n",
      "|           Training Data            |   82.29    |\n",
      "|             Test Data              |    80.0    |\n",
      "+------------------------------------+------------+\n",
      "+---------------------------------------------+-----------+--------+--------+\n",
      "|                    labels                   | Precision | Recall | Fscore |\n",
      "+---------------------------------------------+-----------+--------+--------+\n",
      "|                    others                   |    0.77   |  0.82  |  0.8   |\n",
      "|                   Taliban                   |    0.88   |  0.96  |  0.91  |\n",
      "| Islamic State of Iraq and the Levant (ISIL) |    0.56   |  0.45  |  0.5   |\n",
      "|                  Al-Shabaab                 |    0.88   |  0.3   |  0.45  |\n",
      "|                   Maoists                   |    0.67   |  0.14  |  0.24  |\n",
      "|                  Boko Haram                 |    0.81   |  1.0   |  0.9   |\n",
      "|                    Gunmen                   |    0.91   |  0.97  |  0.94  |\n",
      "|           New People's Army (NPA)           |    0.57   |  0.93  |  0.7   |\n",
      "|   Al-Qaida in the Arabian Peninsula (AQAP)  |    0.75   |  0.88  |  0.81  |\n",
      "|       Tehrik-i-Taliban Pakistan (TTP)       |    0.91   |  0.82  |  0.86  |\n",
      "+---------------------------------------------+-----------+--------+--------+\n"
     ]
    }
   ],
   "source": [
    "table=PrettyTable(['Support Vector Machine kernel(rbf)','Accuracy %'])\n",
    "table.add_row(['Training Data',round(accuracy_score(Y1_train, Y_train)*100,2)])\n",
    "table.add_row(['Test Data',round(accuracy_score(Y1_test, y_pred)*100,2)])\n",
    "print(table)\n",
    "\n",
    "precision, recall, fscore, support = score(Y1_test, y_pred)\n",
    "table = PrettyTable(['labels','Precision','Recall','Fscore'])\n",
    "for i in range(len(labels)):\n",
    "    table.add_row([labels[i],round(precision[i],2),round(recall[i],2),round(fscore[i],2)])\n",
    "print(table)\n",
    "\n"
   ]
  },
  {
   "cell_type": "markdown",
   "metadata": {},
   "source": [
    "# Evaluating the Effectivness of Model (Cross Validation)"
   ]
  },
  {
   "cell_type": "code",
   "execution_count": 55,
   "metadata": {
    "collapsed": false
   },
   "outputs": [
    {
     "name": "stdout",
     "output_type": "stream",
     "text": [
      "+-----------------+------------+\n",
      "| Number of Folds | Accuracy % |\n",
      "+-----------------+------------+\n",
      "|        2        |   77.23    |\n",
      "|        3        |    78.1    |\n",
      "|        4        |    78.9    |\n",
      "|        5        |   78.56    |\n",
      "|        6        |   78.68    |\n",
      "+-----------------+------------+\n"
     ]
    }
   ],
   "source": [
    "from sklearn.cross_validation import cross_val_score\n",
    "\n",
    "table = PrettyTable(['Number of Folds','Accuracy %'])\n",
    "for i in range(5):\n",
    "     \n",
    "      accuracies=cross_val_score(estimator=classifier,X=X1_train,y=Y1_train,cv=i+2)\n",
    "      table.add_row([i+2,round(accuracies.mean()*100,2)])\n",
    "        \n",
    "print(table)\n"
   ]
  },
  {
   "cell_type": "code",
   "execution_count": null,
   "metadata": {
    "collapsed": true
   },
   "outputs": [],
   "source": []
  },
  {
   "cell_type": "code",
   "execution_count": null,
   "metadata": {
    "collapsed": true
   },
   "outputs": [],
   "source": []
  },
  {
   "cell_type": "code",
   "execution_count": null,
   "metadata": {
    "collapsed": true
   },
   "outputs": [],
   "source": []
  },
  {
   "cell_type": "markdown",
   "metadata": {},
   "source": [
    "# Applying the Kernel='poly'"
   ]
  },
  {
   "cell_type": "code",
   "execution_count": 56,
   "metadata": {
    "collapsed": false
   },
   "outputs": [
    {
     "name": "stdout",
     "output_type": "stream",
     "text": [
      "Confusion Matrix :\n"
     ]
    },
    {
     "data": {
      "text/plain": [
       "<Figure size 432x288 with 0 Axes>"
      ]
     },
     "metadata": {},
     "output_type": "display_data"
    },
    {
     "data": {
      "image/png": "[encoded data removed]",
      "text/plain": [
       "<Figure size 180x180 with 1 Axes>"
      ]
     },
     "metadata": {},
     "output_type": "display_data"
    }
   ],
   "source": [
    "#Applying the Kernel='poly'\n",
    "\n",
    "from sklearn.svm import SVC\n",
    "classifier=SVC(kernel='poly',random_state=0)\n",
    "classifier.fit(X1_train,Y1_train)\n",
    "y_pred=classifier.predict(X1_test)\n",
    "Y_train=classifier.predict(X1_train)\n",
    "\n",
    "#Making the Confusion Matrix\n",
    "\n",
    "\n",
    "from sklearn.metrics import confusion_matrix\n",
    "\n",
    "labels = ['others']\n",
    "for i in range(len(Top_Perpertator)):\n",
    "    labels.append(Top_Perpertator[i])\n",
    "\n",
    "cm=confusion_matrix(Y1_test,y_pred)\n",
    "\n",
    "print(\"Confusion Matrix :\")\n",
    "\n",
    "plt.clf()\n",
    "\n",
    "fig, ax = plot_confusion_matrix(conf_mat=cm)\n",
    "classNames =labels\n",
    "plt.title('Perpertrator Group')\n",
    "plt.ylabel('True label')\n",
    "plt.xlabel('Predicted label')\n",
    "tick_marks = np.arange(len(classNames))\n",
    "plt.xticks(tick_marks, classNames, rotation=90)\n",
    "plt.yticks(tick_marks, classNames)\n",
    "plt.show()"
   ]
  },
  {
   "cell_type": "code",
   "execution_count": 57,
   "metadata": {
    "collapsed": false
   },
   "outputs": [
    {
     "name": "stdout",
     "output_type": "stream",
     "text": [
      "+-------------------------------------+------------+\n",
      "| Support Vector Machine kernel(Poly) | Accuracy % |\n",
      "+-------------------------------------+------------+\n",
      "|            Training Data            |   52.62    |\n",
      "|              Test Data              |   45.45    |\n",
      "+-------------------------------------+------------+\n",
      "+---------------------------------------------+-----------+--------+--------+\n",
      "|                    labels                   | Precision | Recall | Fscore |\n",
      "+---------------------------------------------+-----------+--------+--------+\n",
      "|                    others                   |    0.43   |  0.95  |  0.59  |\n",
      "|                   Taliban                   |    0.0    |  0.0   |  0.0   |\n",
      "| Islamic State of Iraq and the Levant (ISIL) |    1.0    |  0.05  |  0.1   |\n",
      "|                  Al-Shabaab                 |    1.0    |  0.17  |  0.3   |\n",
      "|                   Maoists                   |    0.0    |  0.0   |  0.0   |\n",
      "|                  Boko Haram                 |    1.0    |  0.27  |  0.43  |\n",
      "|                    Gunmen                   |    0.83   |  0.31  |  0.45  |\n",
      "|           New People's Army (NPA)           |    0.0    |  0.0   |  0.0   |\n",
      "|   Al-Qaida in the Arabian Peninsula (AQAP)  |    1.0    |  0.18  |  0.3   |\n",
      "|       Tehrik-i-Taliban Pakistan (TTP)       |    0.8    |  0.08  |  0.15  |\n",
      "+---------------------------------------------+-----------+--------+--------+\n"
     ]
    },
    {
     "name": "stderr",
     "output_type": "stream",
     "text": [
      "C:\\Users\\tejve\\Anaconda2\\envs\\Python3.6Test\\lib\\site-packages\\sklearn\\metrics\\classification.py:1135: UndefinedMetricWarning: Precision and F-score are ill-defined and being set to 0.0 in labels with no predicted samples.\n",
      "  'precision', 'predicted', average, warn_for)\n"
     ]
    }
   ],
   "source": [
    "table=PrettyTable(['Support Vector Machine kernel(Poly)','Accuracy %'])\n",
    "table.add_row(['Training Data',round(accuracy_score(Y1_train, Y_train)*100,2)])\n",
    "table.add_row(['Test Data',round(accuracy_score(Y1_test, y_pred)*100,2)])\n",
    "print(table)\n",
    "\n",
    "\n",
    "precision, recall, fscore, support = score(Y1_test, y_pred)\n",
    "table = PrettyTable(['labels','Precision','Recall','Fscore'])\n",
    "for i in range(len(labels)):\n",
    "    table.add_row([labels[i],round(precision[i],2),round(recall[i],2),round(fscore[i],2)])\n",
    "print(table)\n",
    "\n"
   ]
  },
  {
   "cell_type": "markdown",
   "metadata": {},
   "source": []
  },
  {
   "cell_type": "code",
   "execution_count": null,
   "metadata": {
    "collapsed": false
   },
   "outputs": [],
   "source": []
  },
  {
   "cell_type": "markdown",
   "metadata": {},
   "source": [
    "# Applying the Kernel='sigmoid'"
   ]
  },
  {
   "cell_type": "code",
   "execution_count": 58,
   "metadata": {
    "collapsed": false
   },
   "outputs": [
    {
     "name": "stdout",
     "output_type": "stream",
     "text": [
      "Confusion Matrix :\n"
     ]
    },
    {
     "data": {
      "text/plain": [
       "<Figure size 432x288 with 0 Axes>"
      ]
     },
     "metadata": {},
     "output_type": "display_data"
    },
    {
     "data": {
      "image/png": "[encoded data removed]",
      "text/plain": [
       "<Figure size 180x180 with 1 Axes>"
      ]
     },
     "metadata": {},
     "output_type": "display_data"
    }
   ],
   "source": [
    "#Applying the Kernel='sigmoid'\n",
    "\n",
    "from sklearn.svm import SVC\n",
    "classifier=SVC(kernel='sigmoid',random_state=0)\n",
    "classifier.fit(X1_train,Y1_train)\n",
    "y_pred=classifier.predict(X1_test)\n",
    "Y_train=classifier.predict(X1_train)\n",
    "\n",
    "#Making the Confusion Matrix\n",
    "\n",
    "\n",
    "from sklearn.metrics import confusion_matrix\n",
    "\n",
    "labels = ['others']\n",
    "for i in range(len(Top_Perpertator)):\n",
    "    labels.append(Top_Perpertator[i])\n",
    "\n",
    "cm=confusion_matrix(Y1_test,y_pred)\n",
    "\n",
    "print(\"Confusion Matrix :\")\n",
    "\n",
    "plt.clf()\n",
    "\n",
    "fig, ax = plot_confusion_matrix(conf_mat=cm)\n",
    "classNames =labels\n",
    "plt.title('Perpertrator Group')\n",
    "plt.ylabel('True label')\n",
    "plt.xlabel('Predicted label')\n",
    "tick_marks = np.arange(len(classNames))\n",
    "plt.xticks(tick_marks, classNames, rotation=90)\n",
    "plt.yticks(tick_marks, classNames)\n",
    "plt.show()\n"
   ]
  },
  {
   "cell_type": "code",
   "execution_count": 59,
   "metadata": {
    "collapsed": false
   },
   "outputs": [
    {
     "name": "stdout",
     "output_type": "stream",
     "text": [
      "+-----------------------------------------+------------+\n",
      "| Support Vector Machine Kernel (Sigmoid) | Accuracy % |\n",
      "+-----------------------------------------+------------+\n",
      "|              Training Data              |   79.64    |\n",
      "|                Test Data                |   79.55    |\n",
      "+-----------------------------------------+------------+\n",
      "+---------------------------------------------+-----------+--------+--------+\n",
      "|                    labels                   | Precision | Recall | Fscore |\n",
      "+---------------------------------------------+-----------+--------+--------+\n",
      "|                    others                   |    0.76   |  0.83  |  0.8   |\n",
      "|                   Taliban                   |    0.89   |  0.96  |  0.92  |\n",
      "| Islamic State of Iraq and the Levant (ISIL) |    0.56   |  0.45  |  0.5   |\n",
      "|                  Al-Shabaab                 |    1.0    |  0.13  |  0.23  |\n",
      "|                   Maoists                   |    0.0    |  0.0   |  0.0   |\n",
      "|                  Boko Haram                 |    0.81   |  0.95  |  0.88  |\n",
      "|                    Gunmen                   |    0.91   |  1.0   |  0.96  |\n",
      "|           New People's Army (NPA)           |    0.56   |  1.0   |  0.72  |\n",
      "|   Al-Qaida in the Arabian Peninsula (AQAP)  |    0.75   |  0.88  |  0.81  |\n",
      "|       Tehrik-i-Taliban Pakistan (TTP)       |    0.91   |  0.82  |  0.86  |\n",
      "+---------------------------------------------+-----------+--------+--------+\n"
     ]
    },
    {
     "name": "stderr",
     "output_type": "stream",
     "text": [
      "C:\\Users\\tejve\\Anaconda2\\envs\\Python3.6Test\\lib\\site-packages\\sklearn\\metrics\\classification.py:1135: UndefinedMetricWarning: Precision and F-score are ill-defined and being set to 0.0 in labels with no predicted samples.\n",
      "  'precision', 'predicted', average, warn_for)\n"
     ]
    }
   ],
   "source": [
    "table=PrettyTable(['Support Vector Machine Kernel (Sigmoid)','Accuracy %'])\n",
    "table.add_row(['Training Data',round(accuracy_score(Y1_train, Y_train)*100,2)])\n",
    "table.add_row(['Test Data',round(accuracy_score(Y1_test, y_pred)*100,2)])\n",
    "print(table)\n",
    "\n",
    "\n",
    "precision, recall, fscore, support = score(Y1_test, y_pred)\n",
    "table = PrettyTable(['labels','Precision','Recall','Fscore'])\n",
    "for i in range(len(labels)):\n",
    "    table.add_row([labels[i],round(precision[i],2),round(recall[i],2),round(fscore[i],2)])\n",
    "print(table)\n",
    "\n"
   ]
  },
  {
   "cell_type": "markdown",
   "metadata": {},
   "source": []
  },
  {
   "cell_type": "code",
   "execution_count": null,
   "metadata": {
    "collapsed": false
   },
   "outputs": [],
   "source": []
  },
  {
   "cell_type": "markdown",
   "metadata": {},
   "source": [
    "# 2. Logistic Regression"
   ]
  },
  {
   "cell_type": "code",
   "execution_count": 60,
   "metadata": {
    "collapsed": false
   },
   "outputs": [
    {
     "name": "stdout",
     "output_type": "stream",
     "text": [
      "Confusion Matrix :\n"
     ]
    },
    {
     "data": {
      "text/plain": [
       "<Figure size 432x288 with 0 Axes>"
      ]
     },
     "metadata": {},
     "output_type": "display_data"
    },
    {
     "data": {
      "image/png": "[encoded data removed]",
      "text/plain": [
       "<Figure size 180x180 with 1 Axes>"
      ]
     },
     "metadata": {},
     "output_type": "display_data"
    }
   ],
   "source": [
    "from sklearn.linear_model import LogisticRegression\n",
    "classifier=LogisticRegression(random_state=0,multi_class='multinomial',solver='newton-cg')\n",
    "classifier.fit(X1_train,Y1_train)\n",
    "\n",
    "y_pred=classifier.predict(X1_test)\n",
    "y_train=classifier.predict(X1_train)\n",
    "\n",
    "\n",
    "\n",
    "from sklearn.metrics import confusion_matrix\n",
    "\n",
    "labels = ['others']\n",
    "for i in range(len(Top_Perpertator)):\n",
    "    labels.append(Top_Perpertator[i])\n",
    "\n",
    "cm=confusion_matrix(Y1_test,y_pred)\n",
    "\n",
    "print(\"Confusion Matrix :\")\n",
    "\n",
    "plt.clf()\n",
    "fig, ax = plot_confusion_matrix(conf_mat=cm)\n",
    "classNames =labels\n",
    "plt.title('Perpertrator Group')\n",
    "plt.ylabel('True label')\n",
    "plt.xlabel('Predicted label')\n",
    "tick_marks = np.arange(len(classNames))\n",
    "plt.xticks(tick_marks, classNames, rotation=90)\n",
    "plt.yticks(tick_marks, classNames)\n",
    "plt.show()"
   ]
  },
  {
   "cell_type": "code",
   "execution_count": 61,
   "metadata": {
    "collapsed": false
   },
   "outputs": [
    {
     "name": "stdout",
     "output_type": "stream",
     "text": [
      "+------------------------------------+------------+\n",
      "| Logistic Regression (Multinominal) | Accuracy % |\n",
      "+------------------------------------+------------+\n",
      "|           Training Data            |   79.64    |\n",
      "|             Test Data              |   81.36    |\n",
      "+------------------------------------+------------+\n",
      "+---------------------------------------------+-----------+--------+--------+\n",
      "|                    labels                   | Precision | Recall | Fscore |\n",
      "+---------------------------------------------+-----------+--------+--------+\n",
      "|                    others                   |    0.81   |  0.79  |  0.8   |\n",
      "|                   Taliban                   |    0.88   |  0.97  |  0.92  |\n",
      "| Islamic State of Iraq and the Levant (ISIL) |    0.64   |  0.45  |  0.53  |\n",
      "|                  Al-Shabaab                 |    0.62   |  0.43  |  0.51  |\n",
      "|                   Maoists                   |    0.54   |  0.5   |  0.52  |\n",
      "|                  Boko Haram                 |    0.85   |  1.0   |  0.92  |\n",
      "|                    Gunmen                   |    0.91   |  1.0   |  0.96  |\n",
      "|           New People's Army (NPA)           |    0.65   |  0.93  |  0.76  |\n",
      "|   Al-Qaida in the Arabian Peninsula (AQAP)  |    0.79   |  0.88  |  0.83  |\n",
      "|       Tehrik-i-Taliban Pakistan (TTP)       |    0.89   |  0.84  |  0.87  |\n",
      "+---------------------------------------------+-----------+--------+--------+\n"
     ]
    }
   ],
   "source": [
    "table=PrettyTable(['Logistic Regression (Multinominal)','Accuracy %'])\n",
    "table.add_row(['Training Data',round(accuracy_score(Y1_train, Y_train)*100,2)])\n",
    "table.add_row(['Test Data',round(accuracy_score(Y1_test, y_pred)*100,2)])\n",
    "print(table)\n",
    "    \n",
    "\n",
    "\n",
    "\n",
    "precision, recall, fscore, support = score(Y1_test, y_pred)\n",
    "table = PrettyTable(['labels','Precision','Recall','Fscore'])\n",
    "for i in range(len(labels)):\n",
    "    table.add_row([labels[i],round(precision[i],2),round(recall[i],2),round(fscore[i],2)])\n",
    "print(table)\n"
   ]
  },
  {
   "cell_type": "markdown",
   "metadata": {},
   "source": [
    "# Evaluating the Effectivness of Model (Cross_Validation)"
   ]
  },
  {
   "cell_type": "code",
   "execution_count": 62,
   "metadata": {
    "collapsed": false
   },
   "outputs": [
    {
     "name": "stdout",
     "output_type": "stream",
     "text": [
      "+-----------------+------------+\n",
      "| Number of Folds | Accuracy % |\n",
      "+-----------------+------------+\n",
      "|        2        |   79.07    |\n",
      "|        3        |   79.36    |\n",
      "|        4        |   80.11    |\n",
      "|        5        |   79.71    |\n",
      "|        6        |   80.45    |\n",
      "+-----------------+------------+\n"
     ]
    }
   ],
   "source": [
    "from sklearn.cross_validation import cross_val_score\n",
    "\n",
    "table = PrettyTable(['Number of Folds','Accuracy %'])\n",
    "for i in range(5):\n",
    "     \n",
    "      accuracies=cross_val_score(estimator=classifier,X=X1_train,y=Y1_train,cv=i+2)\n",
    "      table.add_row([i+2,round(accuracies.mean()*100,2)])\n",
    "        \n",
    "print(table)\n"
   ]
  },
  {
   "cell_type": "code",
   "execution_count": null,
   "metadata": {
    "collapsed": false
   },
   "outputs": [],
   "source": []
  },
  {
   "cell_type": "code",
   "execution_count": null,
   "metadata": {
    "collapsed": true
   },
   "outputs": [],
   "source": []
  },
  {
   "cell_type": "code",
   "execution_count": null,
   "metadata": {
    "collapsed": true
   },
   "outputs": [],
   "source": []
  },
  {
   "cell_type": "code",
   "execution_count": null,
   "metadata": {
    "collapsed": false
   },
   "outputs": [],
   "source": []
  },
  {
   "cell_type": "code",
   "execution_count": null,
   "metadata": {
    "collapsed": false
   },
   "outputs": [],
   "source": []
  },
  {
   "cell_type": "code",
   "execution_count": null,
   "metadata": {
    "collapsed": true
   },
   "outputs": [],
   "source": []
  }
 ],
 "metadata": {
  "kernelspec": {
   "display_name": "Python3.6Test",
   "language": "python",
   "name": "python3.6test"
  },
  "language_info": {
   "codemirror_mode": {
    "name": "ipython",
    "version": 3
   },
   "file_extension": ".py",
   "mimetype": "text/x-python",
   "name": "python",
   "nbconvert_exporter": "python",
   "pygments_lexer": "ipython3",
   "version": "3.6.4"
  }
 },
 "nbformat": 4,
 "nbformat_minor": 0
}
